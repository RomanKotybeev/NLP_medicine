{
 "cells": [
  {
   "cell_type": "markdown",
   "metadata": {},
   "source": [
    "# Tf-idf"
   ]
  },
  {
   "cell_type": "code",
   "execution_count": 1,
   "metadata": {},
   "outputs": [],
   "source": [
    "import re\n",
    "import pathlib\n",
    "import numpy as np"
   ]
  },
  {
   "cell_type": "code",
   "execution_count": 2,
   "metadata": {},
   "outputs": [],
   "source": [
    "pathfile = r'E:\\STUDY\\8PM9I\\UIRS'\n",
    "dataset_file = pathlib.Path(pathfile).joinpath('temp')"
   ]
  },
  {
   "cell_type": "code",
   "execution_count": 3,
   "metadata": {},
   "outputs": [],
   "source": [
    "class Patient:\n",
    "    \"\"\"\n",
    "    In treatment_days each day is an element.\n",
    "    vectorizer is TfidfVectorizer\n",
    "    tfidf_scores contains dict of bags of words(bows) for an each day\n",
    "    keybows conatins the highest num_keybows tfidf_scores \n",
    "    \"\"\"\n",
    "    num_keybows = 5\n",
    "    \n",
    "    def __init__(self):\n",
    "        self.treatment_days = []\n",
    "        self.vectorizer = None\n",
    "        self.matrix = None\n",
    "        self.tfidf_scores = []\n",
    "        self.keybows = []\n",
    "        self.num_days = []\n",
    "    def __len__(self):\n",
    "        return len(self.treatment_days)"
   ]
  },
  {
   "cell_type": "code",
   "execution_count": 4,
   "metadata": {},
   "outputs": [
    {
     "data": {
      "text/plain": [
       "[<__main__.Patient at 0x26e89240320>,\n",
       " <__main__.Patient at 0x26e892400f0>,\n",
       " <__main__.Patient at 0x26e89240358>]"
      ]
     },
     "execution_count": 4,
     "metadata": {},
     "output_type": "execute_result"
    }
   ],
   "source": [
    "docs = (file for file in dataset_file.iterdir() if file.suffix == '.txt')\n",
    "\n",
    "date_pattern = re.compile(r'\\d\\d[.]\\d\\d[.]\\d\\d\\d\\d(.)')\n",
    "\n",
    "patients = []\n",
    "for patientfile in docs:\n",
    "    with open(patientfile, 'rt') as pf: \n",
    "        patient = Patient()\n",
    "        for i, day in enumerate(pf):\n",
    "            day = re.sub(date_pattern, '', day)\n",
    "            day = re.sub('\\n', '', day)\n",
    "            day = re.sub(r'[0-9]+', '', day)\n",
    "            patient.treatment_days.append(day)\n",
    "            patient.num_days.append(i+1)\n",
    "    patients.append(patient)\n",
    "patients"
   ]
  },
  {
   "cell_type": "code",
   "execution_count": 5,
   "metadata": {},
   "outputs": [
    {
     "data": {
      "text/plain": [
       "['Жалобы: На распирающую боль, жжение, зуд в области левой голени, общее недомогание, слабость, разбитость, повышение температуры до ,. Локальный статус: на левой голени эритема с множеством геморрагий, границы, четкие, горячая на ощупь, отек мягких тканей умеренно выражен, тестоватой консистенции, болезненность по периферии преобладает.',\n",
       " 'Жалобы: На умеренную боль ',\n",
       " 'Жалобы: Чувствует себя лучше, температура нормальная, местные явления начали регрессировать, меньше отек и гиперемия. Локальный статус: На левой голени эритема, болезненность незначительная. Паховые лимфатические узлы слева слегка слегка болезненны.',\n",
       " 'Локальный статус: Паховые лимфатические узлы слева слегка безболезненны.',\n",
       " 'Жалобы: Местные явления существенно меньше. Локальный статус: На левой голени эритема стала значительно бледнее.',\n",
       " 'Жалобы: Местные явления существенно меньше. Локальный статус: На левой голени эритема стала значительно бледнее.',\n",
       " 'Локальный статус: На голени бледнеющая гиперемия, отцветающие геморрагии, отек незначительный, боль практически прошла.',\n",
       " 'Локальный статус: Состояние удовлетворительное. Местные явления продолжают регрессировать.',\n",
       " 'Локальный статус: Краснота прошла, отек также шелушение, пигментация на коже голени.',\n",
       " 'Локальный статус: Местные явления незначительные, рассасывающиеся геморрагии.',\n",
       " 'Локальный статус: Местные явления незначительные, рассасывающиеся геморрагии.',\n",
       " 'Локальный статус: Местные явления купированы, на голени остается шелушение и пигментация.']"
      ]
     },
     "execution_count": 5,
     "metadata": {},
     "output_type": "execute_result"
    }
   ],
   "source": [
    "\"\"\"Заполнить незаолненные дни предыдущим днем (считаем, что состояние пациента не изменилось)\"\"\"\n",
    "for patient in patients:\n",
    "    for i, day in enumerate(patient.treatment_days):\n",
    "        if day in [' ', '']:\n",
    "            patient.treatment_days[i] = patient.treatment_days[i-1]\n",
    "    \n",
    "patients[0].treatment_days"
   ]
  },
  {
   "cell_type": "code",
   "execution_count": 6,
   "metadata": {},
   "outputs": [
    {
     "data": {
      "text/plain": [
       "['жалоба: повышение температура до ,, слабость, головной боль, разбитость.',\n",
       " 'жалоба: повышение температура до ,, слабость, головной боль, разбитость.',\n",
       " 'жалоба: боль в правый нижний конечность, распирать характер, усиливаться в вертикальный положении.',\n",
       " 'жалоба: боль в правый нижний конечность, распирать характер, усиливаться в вертикальный положении.',\n",
       " 'жалоба: боль в правый нижний конечность, распирать характер, усиливаться в вертикальный положении.',\n",
       " 'локальный статус: в область правый голень и коленный сустав иметься угасать эритема.',\n",
       " 'локальный статус: в область правый голень и коленный сустав сохраняться угасать эритема, граница размытый, появиться небольшой шелушение кожи. участок флюктуация, размягчение нет.',\n",
       " 'жалоба: не предъявлять локальный статус: в область правый голень и коленный сустав пигментация и шелушение кожи.',\n",
       " 'жалоба: не предъявлять локальный статус: в область правый голень и коленный сустав пигментация и шелушение кожи.',\n",
       " 'жалоба: не предъявлять локальный статус: в область правый голень и коленный сустав пигментация и шелушение кожи.',\n",
       " 'жалоба: не предъявлять локальный статус: в область правый голень и коленный сустав пигментация и шелушение кожи.',\n",
       " 'жалоба: не предъявлять локальный статус: в область правый голень и коленный сустав пигментация и шелушение кожи.',\n",
       " 'жалоба: не предъявлять локальный статус: в область правый голень и коленный сустав пигментация и шелушение кожи.',\n",
       " 'жалоба: не предъявлять локальный статус: в область правый голень и коленный сустав пигментация и шелушение кожи.']"
      ]
     },
     "execution_count": 6,
     "metadata": {},
     "output_type": "execute_result"
    }
   ],
   "source": [
    "import pymorphy2\n",
    "morph = pymorphy2.MorphAnalyzer()\n",
    "\n",
    "for patient in patients:\n",
    "    for i, day in enumerate(patient.treatment_days):\n",
    "        words = day.split()\n",
    "        for word in words:    \n",
    "            p = morph.parse(word.strip(':,-'))[0]\n",
    "            day = day.replace(word.strip(':,-'), p.normal_form)\n",
    "        patient.treatment_days[i] = day\n",
    "patients[1].treatment_days"
   ]
  },
  {
   "cell_type": "code",
   "execution_count": 7,
   "metadata": {},
   "outputs": [],
   "source": [
    "from nltk.corpus import stopwords\n",
    "\n",
    "\n",
    "additional_stop_words = ['дата','время','осмотра','номер','пациента', 'локальный','статус','осмотр']\n",
    "russian_stopwords = stopwords.words(\"russian\")\n",
    "russian_stopwords += additional_stop_words\n",
    "#print(russian_stopwords)"
   ]
  },
  {
   "cell_type": "code",
   "execution_count": 8,
   "metadata": {},
   "outputs": [
    {
     "data": {
      "text/plain": [
       "[{'жалоба': 0.1070961986806036,\n",
       "  'повышение': 0.24447613932702925,\n",
       "  'температура': 0.24447613932702925,\n",
       "  'слабость': 0.24447613932702925,\n",
       "  'головной': 0.24447613932702925,\n",
       "  'боль': 0.17953573745686585,\n",
       "  'разбитость': 0.24447613932702925,\n",
       "  'жалоба повышение': 0.24447613932702925,\n",
       "  'повышение температура': 0.24447613932702925,\n",
       "  'температура слабость': 0.24447613932702925,\n",
       "  'слабость головной': 0.24447613932702925,\n",
       "  'головной боль': 0.24447613932702925,\n",
       "  'боль разбитость': 0.24447613932702925,\n",
       "  'жалоба повышение температура': 0.24447613932702925,\n",
       "  'повышение температура слабость': 0.24447613932702925,\n",
       "  'температура слабость головной': 0.24447613932702925,\n",
       "  'слабость головной боль': 0.24447613932702925,\n",
       "  'головной боль разбитость': 0.24447613932702925},\n",
       " {'жалоба': 0.1070961986806036,\n",
       "  'повышение': 0.24447613932702925,\n",
       "  'температура': 0.24447613932702925,\n",
       "  'слабость': 0.24447613932702925,\n",
       "  'головной': 0.24447613932702925,\n",
       "  'боль': 0.17953573745686585,\n",
       "  'разбитость': 0.24447613932702925,\n",
       "  'жалоба повышение': 0.24447613932702925,\n",
       "  'повышение температура': 0.24447613932702925,\n",
       "  'температура слабость': 0.24447613932702925,\n",
       "  'слабость головной': 0.24447613932702925,\n",
       "  'головной боль': 0.24447613932702925,\n",
       "  'боль разбитость': 0.24447613932702925,\n",
       "  'жалоба повышение температура': 0.24447613932702925,\n",
       "  'повышение температура слабость': 0.24447613932702925,\n",
       "  'температура слабость головной': 0.24447613932702925,\n",
       "  'слабость головной боль': 0.24447613932702925,\n",
       "  'головной боль разбитость': 0.24447613932702925},\n",
       " {'жалоба': 0.09814330210268246,\n",
       "  'боль': 0.16452712922151833,\n",
       "  'правый': 0.09814330210268246,\n",
       "  'нижний': 0.1993391799854886,\n",
       "  'конечность': 0.1993391799854886,\n",
       "  'распирать': 0.1993391799854886,\n",
       "  'характер': 0.1993391799854886,\n",
       "  'усиливаться': 0.1993391799854886,\n",
       "  'вертикальный': 0.1993391799854886,\n",
       "  'положении': 0.1993391799854886,\n",
       "  'жалоба боль': 0.1993391799854886,\n",
       "  'боль правый': 0.1993391799854886,\n",
       "  'правый нижний': 0.1993391799854886,\n",
       "  'нижний конечность': 0.1993391799854886,\n",
       "  'конечность распирать': 0.1993391799854886,\n",
       "  'распирать характер': 0.1993391799854886,\n",
       "  'характер усиливаться': 0.1993391799854886,\n",
       "  'усиливаться вертикальный': 0.1993391799854886,\n",
       "  'вертикальный положении': 0.1993391799854886,\n",
       "  'жалоба боль правый': 0.1993391799854886,\n",
       "  'боль правый нижний': 0.1993391799854886,\n",
       "  'правый нижний конечность': 0.1993391799854886,\n",
       "  'нижний конечность распирать': 0.1993391799854886,\n",
       "  'конечность распирать характер': 0.1993391799854886,\n",
       "  'распирать характер усиливаться': 0.1993391799854886,\n",
       "  'характер усиливаться вертикальный': 0.1993391799854886,\n",
       "  'усиливаться вертикальный положении': 0.1993391799854886},\n",
       " {'жалоба': 0.09814330210268246,\n",
       "  'боль': 0.16452712922151833,\n",
       "  'правый': 0.09814330210268246,\n",
       "  'нижний': 0.1993391799854886,\n",
       "  'конечность': 0.1993391799854886,\n",
       "  'распирать': 0.1993391799854886,\n",
       "  'характер': 0.1993391799854886,\n",
       "  'усиливаться': 0.1993391799854886,\n",
       "  'вертикальный': 0.1993391799854886,\n",
       "  'положении': 0.1993391799854886,\n",
       "  'жалоба боль': 0.1993391799854886,\n",
       "  'боль правый': 0.1993391799854886,\n",
       "  'правый нижний': 0.1993391799854886,\n",
       "  'нижний конечность': 0.1993391799854886,\n",
       "  'конечность распирать': 0.1993391799854886,\n",
       "  'распирать характер': 0.1993391799854886,\n",
       "  'характер усиливаться': 0.1993391799854886,\n",
       "  'усиливаться вертикальный': 0.1993391799854886,\n",
       "  'вертикальный положении': 0.1993391799854886,\n",
       "  'жалоба боль правый': 0.1993391799854886,\n",
       "  'боль правый нижний': 0.1993391799854886,\n",
       "  'правый нижний конечность': 0.1993391799854886,\n",
       "  'нижний конечность распирать': 0.1993391799854886,\n",
       "  'конечность распирать характер': 0.1993391799854886,\n",
       "  'распирать характер усиливаться': 0.1993391799854886,\n",
       "  'характер усиливаться вертикальный': 0.1993391799854886,\n",
       "  'усиливаться вертикальный положении': 0.1993391799854886},\n",
       " {'жалоба': 0.09814330210268246,\n",
       "  'боль': 0.16452712922151833,\n",
       "  'правый': 0.09814330210268246,\n",
       "  'нижний': 0.1993391799854886,\n",
       "  'конечность': 0.1993391799854886,\n",
       "  'распирать': 0.1993391799854886,\n",
       "  'характер': 0.1993391799854886,\n",
       "  'усиливаться': 0.1993391799854886,\n",
       "  'вертикальный': 0.1993391799854886,\n",
       "  'положении': 0.1993391799854886,\n",
       "  'жалоба боль': 0.1993391799854886,\n",
       "  'боль правый': 0.1993391799854886,\n",
       "  'правый нижний': 0.1993391799854886,\n",
       "  'нижний конечность': 0.1993391799854886,\n",
       "  'конечность распирать': 0.1993391799854886,\n",
       "  'распирать характер': 0.1993391799854886,\n",
       "  'характер усиливаться': 0.1993391799854886,\n",
       "  'усиливаться вертикальный': 0.1993391799854886,\n",
       "  'вертикальный положении': 0.1993391799854886,\n",
       "  'жалоба боль правый': 0.1993391799854886,\n",
       "  'боль правый нижний': 0.1993391799854886,\n",
       "  'правый нижний конечность': 0.1993391799854886,\n",
       "  'нижний конечность распирать': 0.1993391799854886,\n",
       "  'конечность распирать характер': 0.1993391799854886,\n",
       "  'распирать характер усиливаться': 0.1993391799854886,\n",
       "  'характер усиливаться вертикальный': 0.1993391799854886,\n",
       "  'усиливаться вертикальный положении': 0.1993391799854886},\n",
       " {'правый': 0.11547022586270546,\n",
       "  'область': 0.14197292774146195,\n",
       "  'голень': 0.14197292774146195,\n",
       "  'коленный': 0.14197292774146195,\n",
       "  'сустав': 0.14197292774146195,\n",
       "  'иметься': 0.30455014942286335,\n",
       "  'угасать': 0.2635921290756985,\n",
       "  'эритема': 0.2635921290756985,\n",
       "  'область правый': 0.14197292774146195,\n",
       "  'правый голень': 0.14197292774146195,\n",
       "  'голень коленный': 0.14197292774146195,\n",
       "  'коленный сустав': 0.14197292774146195,\n",
       "  'сустав иметься': 0.30455014942286335,\n",
       "  'иметься угасать': 0.30455014942286335,\n",
       "  'угасать эритема': 0.2635921290756985,\n",
       "  'область правый голень': 0.14197292774146195,\n",
       "  'правый голень коленный': 0.14197292774146195,\n",
       "  'голень коленный сустав': 0.14197292774146195,\n",
       "  'коленный сустав иметься': 0.30455014942286335,\n",
       "  'сустав иметься угасать': 0.30455014942286335,\n",
       "  'иметься угасать эритема': 0.30455014942286335},\n",
       " {'правый': 0.06360384996781496,\n",
       "  'область': 0.07820219219364923,\n",
       "  'голень': 0.07820219219364923,\n",
       "  'коленный': 0.07820219219364923,\n",
       "  'сустав': 0.07820219219364923,\n",
       "  'угасать': 0.14519304959498264,\n",
       "  'эритема': 0.14519304959498264,\n",
       "  'область правый': 0.07820219219364923,\n",
       "  'правый голень': 0.07820219219364923,\n",
       "  'голень коленный': 0.07820219219364923,\n",
       "  'коленный сустав': 0.07820219219364923,\n",
       "  'угасать эритема': 0.14519304959498264,\n",
       "  'область правый голень': 0.07820219219364923,\n",
       "  'правый голень коленный': 0.07820219219364923,\n",
       "  'голень коленный сустав': 0.07820219219364923,\n",
       "  'сохраняться': 0.1677537379601136,\n",
       "  'граница': 0.1677537379601136,\n",
       "  'размытый': 0.1677537379601136,\n",
       "  'появиться': 0.1677537379601136,\n",
       "  'небольшой': 0.1677537379601136,\n",
       "  'шелушение': 0.08406460972899883,\n",
       "  'кожи': 0.08406460972899883,\n",
       "  'участок': 0.1677537379601136,\n",
       "  'флюктуация': 0.1677537379601136,\n",
       "  'размягчение': 0.1677537379601136,\n",
       "  'сустав сохраняться': 0.1677537379601136,\n",
       "  'сохраняться угасать': 0.1677537379601136,\n",
       "  'эритема граница': 0.1677537379601136,\n",
       "  'граница размытый': 0.1677537379601136,\n",
       "  'размытый появиться': 0.1677537379601136,\n",
       "  'появиться небольшой': 0.1677537379601136,\n",
       "  'небольшой шелушение': 0.1677537379601136,\n",
       "  'шелушение кожи': 0.08406460972899883,\n",
       "  'кожи участок': 0.1677537379601136,\n",
       "  'участок флюктуация': 0.1677537379601136,\n",
       "  'флюктуация размягчение': 0.1677537379601136,\n",
       "  'коленный сустав сохраняться': 0.1677537379601136,\n",
       "  'сустав сохраняться угасать': 0.1677537379601136,\n",
       "  'сохраняться угасать эритема': 0.1677537379601136,\n",
       "  'угасать эритема граница': 0.1677537379601136,\n",
       "  'эритема граница размытый': 0.1677537379601136,\n",
       "  'граница размытый появиться': 0.1677537379601136,\n",
       "  'размытый появиться небольшой': 0.1677537379601136,\n",
       "  'появиться небольшой шелушение': 0.1677537379601136,\n",
       "  'небольшой шелушение кожи': 0.1677537379601136,\n",
       "  'шелушение кожи участок': 0.1677537379601136,\n",
       "  'кожи участок флюктуация': 0.1677537379601136,\n",
       "  'участок флюктуация размягчение': 0.1677537379601136},\n",
       " {'жалоба': 0.1471258491420383,\n",
       "  'правый': 0.1471258491420383,\n",
       "  'область': 0.18089414299734383,\n",
       "  'голень': 0.18089414299734383,\n",
       "  'коленный': 0.18089414299734383,\n",
       "  'сустав': 0.18089414299734383,\n",
       "  'область правый': 0.18089414299734383,\n",
       "  'правый голень': 0.18089414299734383,\n",
       "  'голень коленный': 0.18089414299734383,\n",
       "  'коленный сустав': 0.18089414299734383,\n",
       "  'область правый голень': 0.18089414299734383,\n",
       "  'правый голень коленный': 0.18089414299734383,\n",
       "  'голень коленный сустав': 0.18089414299734383,\n",
       "  'шелушение': 0.1944548497525157,\n",
       "  'кожи': 0.1944548497525157,\n",
       "  'шелушение кожи': 0.1944548497525157,\n",
       "  'предъявлять': 0.2096144301446369,\n",
       "  'пигментация': 0.2096144301446369,\n",
       "  'жалоба предъявлять': 0.2096144301446369,\n",
       "  'предъявлять область': 0.2096144301446369,\n",
       "  'сустав пигментация': 0.2096144301446369,\n",
       "  'пигментация шелушение': 0.2096144301446369,\n",
       "  'жалоба предъявлять область': 0.2096144301446369,\n",
       "  'предъявлять область правый': 0.2096144301446369,\n",
       "  'коленный сустав пигментация': 0.2096144301446369,\n",
       "  'сустав пигментация шелушение': 0.2096144301446369,\n",
       "  'пигментация шелушение кожи': 0.2096144301446369},\n",
       " {'жалоба': 0.1471258491420383,\n",
       "  'правый': 0.1471258491420383,\n",
       "  'область': 0.18089414299734383,\n",
       "  'голень': 0.18089414299734383,\n",
       "  'коленный': 0.18089414299734383,\n",
       "  'сустав': 0.18089414299734383,\n",
       "  'область правый': 0.18089414299734383,\n",
       "  'правый голень': 0.18089414299734383,\n",
       "  'голень коленный': 0.18089414299734383,\n",
       "  'коленный сустав': 0.18089414299734383,\n",
       "  'область правый голень': 0.18089414299734383,\n",
       "  'правый голень коленный': 0.18089414299734383,\n",
       "  'голень коленный сустав': 0.18089414299734383,\n",
       "  'шелушение': 0.1944548497525157,\n",
       "  'кожи': 0.1944548497525157,\n",
       "  'шелушение кожи': 0.1944548497525157,\n",
       "  'предъявлять': 0.2096144301446369,\n",
       "  'пигментация': 0.2096144301446369,\n",
       "  'жалоба предъявлять': 0.2096144301446369,\n",
       "  'предъявлять область': 0.2096144301446369,\n",
       "  'сустав пигментация': 0.2096144301446369,\n",
       "  'пигментация шелушение': 0.2096144301446369,\n",
       "  'жалоба предъявлять область': 0.2096144301446369,\n",
       "  'предъявлять область правый': 0.2096144301446369,\n",
       "  'коленный сустав пигментация': 0.2096144301446369,\n",
       "  'сустав пигментация шелушение': 0.2096144301446369,\n",
       "  'пигментация шелушение кожи': 0.2096144301446369},\n",
       " {'жалоба': 0.1471258491420383,\n",
       "  'правый': 0.1471258491420383,\n",
       "  'область': 0.18089414299734383,\n",
       "  'голень': 0.18089414299734383,\n",
       "  'коленный': 0.18089414299734383,\n",
       "  'сустав': 0.18089414299734383,\n",
       "  'область правый': 0.18089414299734383,\n",
       "  'правый голень': 0.18089414299734383,\n",
       "  'голень коленный': 0.18089414299734383,\n",
       "  'коленный сустав': 0.18089414299734383,\n",
       "  'область правый голень': 0.18089414299734383,\n",
       "  'правый голень коленный': 0.18089414299734383,\n",
       "  'голень коленный сустав': 0.18089414299734383,\n",
       "  'шелушение': 0.1944548497525157,\n",
       "  'кожи': 0.1944548497525157,\n",
       "  'шелушение кожи': 0.1944548497525157,\n",
       "  'предъявлять': 0.2096144301446369,\n",
       "  'пигментация': 0.2096144301446369,\n",
       "  'жалоба предъявлять': 0.2096144301446369,\n",
       "  'предъявлять область': 0.2096144301446369,\n",
       "  'сустав пигментация': 0.2096144301446369,\n",
       "  'пигментация шелушение': 0.2096144301446369,\n",
       "  'жалоба предъявлять область': 0.2096144301446369,\n",
       "  'предъявлять область правый': 0.2096144301446369,\n",
       "  'коленный сустав пигментация': 0.2096144301446369,\n",
       "  'сустав пигментация шелушение': 0.2096144301446369,\n",
       "  'пигментация шелушение кожи': 0.2096144301446369},\n",
       " {'жалоба': 0.1471258491420383,\n",
       "  'правый': 0.1471258491420383,\n",
       "  'область': 0.18089414299734383,\n",
       "  'голень': 0.18089414299734383,\n",
       "  'коленный': 0.18089414299734383,\n",
       "  'сустав': 0.18089414299734383,\n",
       "  'область правый': 0.18089414299734383,\n",
       "  'правый голень': 0.18089414299734383,\n",
       "  'голень коленный': 0.18089414299734383,\n",
       "  'коленный сустав': 0.18089414299734383,\n",
       "  'область правый голень': 0.18089414299734383,\n",
       "  'правый голень коленный': 0.18089414299734383,\n",
       "  'голень коленный сустав': 0.18089414299734383,\n",
       "  'шелушение': 0.1944548497525157,\n",
       "  'кожи': 0.1944548497525157,\n",
       "  'шелушение кожи': 0.1944548497525157,\n",
       "  'предъявлять': 0.2096144301446369,\n",
       "  'пигментация': 0.2096144301446369,\n",
       "  'жалоба предъявлять': 0.2096144301446369,\n",
       "  'предъявлять область': 0.2096144301446369,\n",
       "  'сустав пигментация': 0.2096144301446369,\n",
       "  'пигментация шелушение': 0.2096144301446369,\n",
       "  'жалоба предъявлять область': 0.2096144301446369,\n",
       "  'предъявлять область правый': 0.2096144301446369,\n",
       "  'коленный сустав пигментация': 0.2096144301446369,\n",
       "  'сустав пигментация шелушение': 0.2096144301446369,\n",
       "  'пигментация шелушение кожи': 0.2096144301446369},\n",
       " {'жалоба': 0.1471258491420383,\n",
       "  'правый': 0.1471258491420383,\n",
       "  'область': 0.18089414299734383,\n",
       "  'голень': 0.18089414299734383,\n",
       "  'коленный': 0.18089414299734383,\n",
       "  'сустав': 0.18089414299734383,\n",
       "  'область правый': 0.18089414299734383,\n",
       "  'правый голень': 0.18089414299734383,\n",
       "  'голень коленный': 0.18089414299734383,\n",
       "  'коленный сустав': 0.18089414299734383,\n",
       "  'область правый голень': 0.18089414299734383,\n",
       "  'правый голень коленный': 0.18089414299734383,\n",
       "  'голень коленный сустав': 0.18089414299734383,\n",
       "  'шелушение': 0.1944548497525157,\n",
       "  'кожи': 0.1944548497525157,\n",
       "  'шелушение кожи': 0.1944548497525157,\n",
       "  'предъявлять': 0.2096144301446369,\n",
       "  'пигментация': 0.2096144301446369,\n",
       "  'жалоба предъявлять': 0.2096144301446369,\n",
       "  'предъявлять область': 0.2096144301446369,\n",
       "  'сустав пигментация': 0.2096144301446369,\n",
       "  'пигментация шелушение': 0.2096144301446369,\n",
       "  'жалоба предъявлять область': 0.2096144301446369,\n",
       "  'предъявлять область правый': 0.2096144301446369,\n",
       "  'коленный сустав пигментация': 0.2096144301446369,\n",
       "  'сустав пигментация шелушение': 0.2096144301446369,\n",
       "  'пигментация шелушение кожи': 0.2096144301446369},\n",
       " {'жалоба': 0.1471258491420383,\n",
       "  'правый': 0.1471258491420383,\n",
       "  'область': 0.18089414299734383,\n",
       "  'голень': 0.18089414299734383,\n",
       "  'коленный': 0.18089414299734383,\n",
       "  'сустав': 0.18089414299734383,\n",
       "  'область правый': 0.18089414299734383,\n",
       "  'правый голень': 0.18089414299734383,\n",
       "  'голень коленный': 0.18089414299734383,\n",
       "  'коленный сустав': 0.18089414299734383,\n",
       "  'область правый голень': 0.18089414299734383,\n",
       "  'правый голень коленный': 0.18089414299734383,\n",
       "  'голень коленный сустав': 0.18089414299734383,\n",
       "  'шелушение': 0.1944548497525157,\n",
       "  'кожи': 0.1944548497525157,\n",
       "  'шелушение кожи': 0.1944548497525157,\n",
       "  'предъявлять': 0.2096144301446369,\n",
       "  'пигментация': 0.2096144301446369,\n",
       "  'жалоба предъявлять': 0.2096144301446369,\n",
       "  'предъявлять область': 0.2096144301446369,\n",
       "  'сустав пигментация': 0.2096144301446369,\n",
       "  'пигментация шелушение': 0.2096144301446369,\n",
       "  'жалоба предъявлять область': 0.2096144301446369,\n",
       "  'предъявлять область правый': 0.2096144301446369,\n",
       "  'коленный сустав пигментация': 0.2096144301446369,\n",
       "  'сустав пигментация шелушение': 0.2096144301446369,\n",
       "  'пигментация шелушение кожи': 0.2096144301446369},\n",
       " {'жалоба': 0.1471258491420383,\n",
       "  'правый': 0.1471258491420383,\n",
       "  'область': 0.18089414299734383,\n",
       "  'голень': 0.18089414299734383,\n",
       "  'коленный': 0.18089414299734383,\n",
       "  'сустав': 0.18089414299734383,\n",
       "  'область правый': 0.18089414299734383,\n",
       "  'правый голень': 0.18089414299734383,\n",
       "  'голень коленный': 0.18089414299734383,\n",
       "  'коленный сустав': 0.18089414299734383,\n",
       "  'область правый голень': 0.18089414299734383,\n",
       "  'правый голень коленный': 0.18089414299734383,\n",
       "  'голень коленный сустав': 0.18089414299734383,\n",
       "  'шелушение': 0.1944548497525157,\n",
       "  'кожи': 0.1944548497525157,\n",
       "  'шелушение кожи': 0.1944548497525157,\n",
       "  'предъявлять': 0.2096144301446369,\n",
       "  'пигментация': 0.2096144301446369,\n",
       "  'жалоба предъявлять': 0.2096144301446369,\n",
       "  'предъявлять область': 0.2096144301446369,\n",
       "  'сустав пигментация': 0.2096144301446369,\n",
       "  'пигментация шелушение': 0.2096144301446369,\n",
       "  'жалоба предъявлять область': 0.2096144301446369,\n",
       "  'предъявлять область правый': 0.2096144301446369,\n",
       "  'коленный сустав пигментация': 0.2096144301446369,\n",
       "  'сустав пигментация шелушение': 0.2096144301446369,\n",
       "  'пигментация шелушение кожи': 0.2096144301446369}]"
      ]
     },
     "execution_count": 8,
     "metadata": {},
     "output_type": "execute_result"
    }
   ],
   "source": [
    "from sklearn.feature_extraction.text import TfidfVectorizer\n",
    "\n",
    "\n",
    "for patient in patients:\n",
    "    if patient.vectorizer is None:\n",
    "        vectorizer = TfidfVectorizer(stop_words=russian_stopwords, ngram_range=(1, 3))\n",
    "        matrix = vectorizer.fit_transform(patient.treatment_days)\n",
    "        feature_names = vectorizer.get_feature_names()\n",
    "        patient.vectorizer = vectorizer\n",
    "        patient.matrix = matrix\n",
    "        \n",
    "        for iday in range(len(patient.treatment_days)):\n",
    "            feature_index = matrix[iday,:].nonzero()[1]\n",
    "            scores = zip(feature_index, [matrix[iday,x] for x in feature_index])\n",
    "            tfidf = {}\n",
    "            for word, value in [(feature_names[i], value) for (i, value) in scores]:\n",
    "                tfidf[word] = value\n",
    "            patient.tfidf_scores.append(tfidf)\n",
    "        \n",
    "    \n",
    "    \n",
    "patients[1].tfidf_scores"
   ]
  },
  {
   "cell_type": "code",
   "execution_count": 9,
   "metadata": {},
   "outputs": [
    {
     "data": {
      "text/plain": [
       "{'повышение': 0.24447613932702925,\n",
       " 'температура': 0.24447613932702925,\n",
       " 'слабость': 0.24447613932702925,\n",
       " 'головной': 0.24447613932702925,\n",
       " 'разбитость': 0.24447613932702925}"
      ]
     },
     "execution_count": 9,
     "metadata": {},
     "output_type": "execute_result"
    }
   ],
   "source": [
    "#bow - bag of words\n",
    "num_keybows = Patient.num_keybows\n",
    "\n",
    "for patient in patients:\n",
    "    for iday in range(len(patient.treatment_days)):\n",
    "        bows = patient.tfidf_scores[iday]\n",
    "        sorted_ = sorted(bows, key=bows.get, reverse=True)[:num_keybows]\n",
    "        tfidf = {}\n",
    "        for keybow in sorted_:\n",
    "            tfidf[keybow] = patient.tfidf_scores[iday][keybow]\n",
    "        patient.keybows.append(tfidf)\n",
    "    \n",
    "patients[1].keybows[0]"
   ]
  },
  {
   "cell_type": "code",
   "execution_count": 10,
   "metadata": {},
   "outputs": [
    {
     "data": {
      "text/plain": [
       "<Figure size 800x800 with 1 Axes>"
      ]
     },
     "metadata": {},
     "output_type": "display_data"
    },
    {
     "data": {
      "text/plain": [
       "<matplotlib.axes._subplots.AxesSubplot at 0x26e92fc2dd8>"
      ]
     },
     "execution_count": 10,
     "metadata": {},
     "output_type": "execute_result"
    }
   ],
   "source": [
    "from yellowbrick.text import FreqDistVisualizer\n",
    "from matplotlib.pyplot import figure\n",
    "\n",
    "figure(num=None, figsize=(10, 10), dpi=80, facecolor='w', edgecolor='k')\n",
    "\n",
    "visualizer = FreqDistVisualizer(features=patients[1].vectorizer.get_feature_names())\n",
    "visualizer.fit(patients[1].matrix)\n",
    "visualizer.show()"
   ]
  },
  {
   "cell_type": "code",
   "execution_count": 18,
   "metadata": {
    "scrolled": false
   },
   "outputs": [
    {
     "name": "stderr",
     "output_type": "stream",
     "text": [
      "'c' argument looks like a single numeric RGB or RGBA sequence, which should be avoided as value-mapping will have precedence in case its length matches with 'x' & 'y'.  Please use a 2-D array with a single row if you really want to specify the same RGB or RGBA value for all points.\n",
      "'c' argument looks like a single numeric RGB or RGBA sequence, which should be avoided as value-mapping will have precedence in case its length matches with 'x' & 'y'.  Please use a 2-D array with a single row if you really want to specify the same RGB or RGBA value for all points.\n",
      "'c' argument looks like a single numeric RGB or RGBA sequence, which should be avoided as value-mapping will have precedence in case its length matches with 'x' & 'y'.  Please use a 2-D array with a single row if you really want to specify the same RGB or RGBA value for all points.\n",
      "'c' argument looks like a single numeric RGB or RGBA sequence, which should be avoided as value-mapping will have precedence in case its length matches with 'x' & 'y'.  Please use a 2-D array with a single row if you really want to specify the same RGB or RGBA value for all points.\n",
      "'c' argument looks like a single numeric RGB or RGBA sequence, which should be avoided as value-mapping will have precedence in case its length matches with 'x' & 'y'.  Please use a 2-D array with a single row if you really want to specify the same RGB or RGBA value for all points.\n",
      "'c' argument looks like a single numeric RGB or RGBA sequence, which should be avoided as value-mapping will have precedence in case its length matches with 'x' & 'y'.  Please use a 2-D array with a single row if you really want to specify the same RGB or RGBA value for all points.\n",
      "'c' argument looks like a single numeric RGB or RGBA sequence, which should be avoided as value-mapping will have precedence in case its length matches with 'x' & 'y'.  Please use a 2-D array with a single row if you really want to specify the same RGB or RGBA value for all points.\n",
      "'c' argument looks like a single numeric RGB or RGBA sequence, which should be avoided as value-mapping will have precedence in case its length matches with 'x' & 'y'.  Please use a 2-D array with a single row if you really want to specify the same RGB or RGBA value for all points.\n",
      "'c' argument looks like a single numeric RGB or RGBA sequence, which should be avoided as value-mapping will have precedence in case its length matches with 'x' & 'y'.  Please use a 2-D array with a single row if you really want to specify the same RGB or RGBA value for all points.\n",
      "'c' argument looks like a single numeric RGB or RGBA sequence, which should be avoided as value-mapping will have precedence in case its length matches with 'x' & 'y'.  Please use a 2-D array with a single row if you really want to specify the same RGB or RGBA value for all points.\n",
      "'c' argument looks like a single numeric RGB or RGBA sequence, which should be avoided as value-mapping will have precedence in case its length matches with 'x' & 'y'.  Please use a 2-D array with a single row if you really want to specify the same RGB or RGBA value for all points.\n",
      "'c' argument looks like a single numeric RGB or RGBA sequence, which should be avoided as value-mapping will have precedence in case its length matches with 'x' & 'y'.  Please use a 2-D array with a single row if you really want to specify the same RGB or RGBA value for all points.\n"
     ]
    },
    {
     "data": {
      "image/png": "[encoded data removed]",
      "text/plain": [
       "<Figure size 432x288 with 1 Axes>"
      ]
     },
     "metadata": {},
     "output_type": "display_data"
    },
    {
     "name": "stderr",
     "output_type": "stream",
     "text": [
      "'c' argument looks like a single numeric RGB or RGBA sequence, which should be avoided as value-mapping will have precedence in case its length matches with 'x' & 'y'.  Please use a 2-D array with a single row if you really want to specify the same RGB or RGBA value for all points.\n",
      "'c' argument looks like a single numeric RGB or RGBA sequence, which should be avoided as value-mapping will have precedence in case its length matches with 'x' & 'y'.  Please use a 2-D array with a single row if you really want to specify the same RGB or RGBA value for all points.\n",
      "'c' argument looks like a single numeric RGB or RGBA sequence, which should be avoided as value-mapping will have precedence in case its length matches with 'x' & 'y'.  Please use a 2-D array with a single row if you really want to specify the same RGB or RGBA value for all points.\n",
      "'c' argument looks like a single numeric RGB or RGBA sequence, which should be avoided as value-mapping will have precedence in case its length matches with 'x' & 'y'.  Please use a 2-D array with a single row if you really want to specify the same RGB or RGBA value for all points.\n",
      "'c' argument looks like a single numeric RGB or RGBA sequence, which should be avoided as value-mapping will have precedence in case its length matches with 'x' & 'y'.  Please use a 2-D array with a single row if you really want to specify the same RGB or RGBA value for all points.\n",
      "'c' argument looks like a single numeric RGB or RGBA sequence, which should be avoided as value-mapping will have precedence in case its length matches with 'x' & 'y'.  Please use a 2-D array with a single row if you really want to specify the same RGB or RGBA value for all points.\n",
      "'c' argument looks like a single numeric RGB or RGBA sequence, which should be avoided as value-mapping will have precedence in case its length matches with 'x' & 'y'.  Please use a 2-D array with a single row if you really want to specify the same RGB or RGBA value for all points.\n",
      "'c' argument looks like a single numeric RGB or RGBA sequence, which should be avoided as value-mapping will have precedence in case its length matches with 'x' & 'y'.  Please use a 2-D array with a single row if you really want to specify the same RGB or RGBA value for all points.\n",
      "'c' argument looks like a single numeric RGB or RGBA sequence, which should be avoided as value-mapping will have precedence in case its length matches with 'x' & 'y'.  Please use a 2-D array with a single row if you really want to specify the same RGB or RGBA value for all points.\n",
      "'c' argument looks like a single numeric RGB or RGBA sequence, which should be avoided as value-mapping will have precedence in case its length matches with 'x' & 'y'.  Please use a 2-D array with a single row if you really want to specify the same RGB or RGBA value for all points.\n",
      "'c' argument looks like a single numeric RGB or RGBA sequence, which should be avoided as value-mapping will have precedence in case its length matches with 'x' & 'y'.  Please use a 2-D array with a single row if you really want to specify the same RGB or RGBA value for all points.\n",
      "'c' argument looks like a single numeric RGB or RGBA sequence, which should be avoided as value-mapping will have precedence in case its length matches with 'x' & 'y'.  Please use a 2-D array with a single row if you really want to specify the same RGB or RGBA value for all points.\n",
      "'c' argument looks like a single numeric RGB or RGBA sequence, which should be avoided as value-mapping will have precedence in case its length matches with 'x' & 'y'.  Please use a 2-D array with a single row if you really want to specify the same RGB or RGBA value for all points.\n",
      "'c' argument looks like a single numeric RGB or RGBA sequence, which should be avoided as value-mapping will have precedence in case its length matches with 'x' & 'y'.  Please use a 2-D array with a single row if you really want to specify the same RGB or RGBA value for all points.\n"
     ]
    },
    {
     "data": {
      "image/png": "[encoded data removed]",
      "text/plain": [
       "<Figure size 432x288 with 1 Axes>"
      ]
     },
     "metadata": {},
     "output_type": "display_data"
    },
    {
     "name": "stderr",
     "output_type": "stream",
     "text": [
      "'c' argument looks like a single numeric RGB or RGBA sequence, which should be avoided as value-mapping will have precedence in case its length matches with 'x' & 'y'.  Please use a 2-D array with a single row if you really want to specify the same RGB or RGBA value for all points.\n",
      "'c' argument looks like a single numeric RGB or RGBA sequence, which should be avoided as value-mapping will have precedence in case its length matches with 'x' & 'y'.  Please use a 2-D array with a single row if you really want to specify the same RGB or RGBA value for all points.\n",
      "'c' argument looks like a single numeric RGB or RGBA sequence, which should be avoided as value-mapping will have precedence in case its length matches with 'x' & 'y'.  Please use a 2-D array with a single row if you really want to specify the same RGB or RGBA value for all points.\n",
      "'c' argument looks like a single numeric RGB or RGBA sequence, which should be avoided as value-mapping will have precedence in case its length matches with 'x' & 'y'.  Please use a 2-D array with a single row if you really want to specify the same RGB or RGBA value for all points.\n",
      "'c' argument looks like a single numeric RGB or RGBA sequence, which should be avoided as value-mapping will have precedence in case its length matches with 'x' & 'y'.  Please use a 2-D array with a single row if you really want to specify the same RGB or RGBA value for all points.\n",
      "'c' argument looks like a single numeric RGB or RGBA sequence, which should be avoided as value-mapping will have precedence in case its length matches with 'x' & 'y'.  Please use a 2-D array with a single row if you really want to specify the same RGB or RGBA value for all points.\n",
      "'c' argument looks like a single numeric RGB or RGBA sequence, which should be avoided as value-mapping will have precedence in case its length matches with 'x' & 'y'.  Please use a 2-D array with a single row if you really want to specify the same RGB or RGBA value for all points.\n",
      "'c' argument looks like a single numeric RGB or RGBA sequence, which should be avoided as value-mapping will have precedence in case its length matches with 'x' & 'y'.  Please use a 2-D array with a single row if you really want to specify the same RGB or RGBA value for all points.\n",
      "'c' argument looks like a single numeric RGB or RGBA sequence, which should be avoided as value-mapping will have precedence in case its length matches with 'x' & 'y'.  Please use a 2-D array with a single row if you really want to specify the same RGB or RGBA value for all points.\n",
      "'c' argument looks like a single numeric RGB or RGBA sequence, which should be avoided as value-mapping will have precedence in case its length matches with 'x' & 'y'.  Please use a 2-D array with a single row if you really want to specify the same RGB or RGBA value for all points.\n",
      "'c' argument looks like a single numeric RGB or RGBA sequence, which should be avoided as value-mapping will have precedence in case its length matches with 'x' & 'y'.  Please use a 2-D array with a single row if you really want to specify the same RGB or RGBA value for all points.\n",
      "'c' argument looks like a single numeric RGB or RGBA sequence, which should be avoided as value-mapping will have precedence in case its length matches with 'x' & 'y'.  Please use a 2-D array with a single row if you really want to specify the same RGB or RGBA value for all points.\n"
     ]
    },
    {
     "data": {
      "image/png": "[encoded data removed]",
      "text/plain": [
       "<Figure size 432x288 with 1 Axes>"
      ]
     },
     "metadata": {},
     "output_type": "display_data"
    }
   ],
   "source": [
    "from yellowbrick.text import TSNEVisualizer\n",
    "#figure(num=None, figsize=(8, 6), dpi=80, facecolor='w', edgecolor='k')\n",
    "\n",
    "for patient in patients:\n",
    "    tsne = TSNEVisualizer(labels=patient.num_days)\n",
    "    tsne.fit(patient.matrix, patient.num_days)\n",
    "    tsne.poof()"
   ]
  },
  {
   "cell_type": "code",
   "execution_count": 19,
   "metadata": {},
   "outputs": [
    {
     "name": "stderr",
     "output_type": "stream",
     "text": [
      "c:\\users\\roman\\appdata\\local\\programs\\python\\python36\\lib\\site-packages\\umap\\umap_.py:1383: UserWarning: n_neighbors is larger than the dataset size; truncating to X.shape[0] - 1\n",
      "  \"n_neighbors is larger than the dataset size; truncating to \"\n",
      "'c' argument looks like a single numeric RGB or RGBA sequence, which should be avoided as value-mapping will have precedence in case its length matches with 'x' & 'y'.  Please use a 2-D array with a single row if you really want to specify the same RGB or RGBA value for all points.\n",
      "'c' argument looks like a single numeric RGB or RGBA sequence, which should be avoided as value-mapping will have precedence in case its length matches with 'x' & 'y'.  Please use a 2-D array with a single row if you really want to specify the same RGB or RGBA value for all points.\n",
      "'c' argument looks like a single numeric RGB or RGBA sequence, which should be avoided as value-mapping will have precedence in case its length matches with 'x' & 'y'.  Please use a 2-D array with a single row if you really want to specify the same RGB or RGBA value for all points.\n",
      "'c' argument looks like a single numeric RGB or RGBA sequence, which should be avoided as value-mapping will have precedence in case its length matches with 'x' & 'y'.  Please use a 2-D array with a single row if you really want to specify the same RGB or RGBA value for all points.\n",
      "'c' argument looks like a single numeric RGB or RGBA sequence, which should be avoided as value-mapping will have precedence in case its length matches with 'x' & 'y'.  Please use a 2-D array with a single row if you really want to specify the same RGB or RGBA value for all points.\n",
      "'c' argument looks like a single numeric RGB or RGBA sequence, which should be avoided as value-mapping will have precedence in case its length matches with 'x' & 'y'.  Please use a 2-D array with a single row if you really want to specify the same RGB or RGBA value for all points.\n",
      "'c' argument looks like a single numeric RGB or RGBA sequence, which should be avoided as value-mapping will have precedence in case its length matches with 'x' & 'y'.  Please use a 2-D array with a single row if you really want to specify the same RGB or RGBA value for all points.\n",
      "'c' argument looks like a single numeric RGB or RGBA sequence, which should be avoided as value-mapping will have precedence in case its length matches with 'x' & 'y'.  Please use a 2-D array with a single row if you really want to specify the same RGB or RGBA value for all points.\n",
      "'c' argument looks like a single numeric RGB or RGBA sequence, which should be avoided as value-mapping will have precedence in case its length matches with 'x' & 'y'.  Please use a 2-D array with a single row if you really want to specify the same RGB or RGBA value for all points.\n",
      "'c' argument looks like a single numeric RGB or RGBA sequence, which should be avoided as value-mapping will have precedence in case its length matches with 'x' & 'y'.  Please use a 2-D array with a single row if you really want to specify the same RGB or RGBA value for all points.\n",
      "'c' argument looks like a single numeric RGB or RGBA sequence, which should be avoided as value-mapping will have precedence in case its length matches with 'x' & 'y'.  Please use a 2-D array with a single row if you really want to specify the same RGB or RGBA value for all points.\n",
      "'c' argument looks like a single numeric RGB or RGBA sequence, which should be avoided as value-mapping will have precedence in case its length matches with 'x' & 'y'.  Please use a 2-D array with a single row if you really want to specify the same RGB or RGBA value for all points.\n"
     ]
    },
    {
     "data": {
      "image/png": "[encoded data removed]",
      "text/plain": [
       "<Figure size 432x288 with 1 Axes>"
      ]
     },
     "metadata": {},
     "output_type": "display_data"
    },
    {
     "name": "stderr",
     "output_type": "stream",
     "text": [
      "c:\\users\\roman\\appdata\\local\\programs\\python\\python36\\lib\\site-packages\\umap\\spectral.py:229: UserWarning: Embedding a total of 2 separate connected components using meta-embedding (experimental)\n",
      "  n_components\n",
      "'c' argument looks like a single numeric RGB or RGBA sequence, which should be avoided as value-mapping will have precedence in case its length matches with 'x' & 'y'.  Please use a 2-D array with a single row if you really want to specify the same RGB or RGBA value for all points.\n",
      "'c' argument looks like a single numeric RGB or RGBA sequence, which should be avoided as value-mapping will have precedence in case its length matches with 'x' & 'y'.  Please use a 2-D array with a single row if you really want to specify the same RGB or RGBA value for all points.\n",
      "'c' argument looks like a single numeric RGB or RGBA sequence, which should be avoided as value-mapping will have precedence in case its length matches with 'x' & 'y'.  Please use a 2-D array with a single row if you really want to specify the same RGB or RGBA value for all points.\n",
      "'c' argument looks like a single numeric RGB or RGBA sequence, which should be avoided as value-mapping will have precedence in case its length matches with 'x' & 'y'.  Please use a 2-D array with a single row if you really want to specify the same RGB or RGBA value for all points.\n",
      "'c' argument looks like a single numeric RGB or RGBA sequence, which should be avoided as value-mapping will have precedence in case its length matches with 'x' & 'y'.  Please use a 2-D array with a single row if you really want to specify the same RGB or RGBA value for all points.\n",
      "'c' argument looks like a single numeric RGB or RGBA sequence, which should be avoided as value-mapping will have precedence in case its length matches with 'x' & 'y'.  Please use a 2-D array with a single row if you really want to specify the same RGB or RGBA value for all points.\n",
      "'c' argument looks like a single numeric RGB or RGBA sequence, which should be avoided as value-mapping will have precedence in case its length matches with 'x' & 'y'.  Please use a 2-D array with a single row if you really want to specify the same RGB or RGBA value for all points.\n",
      "'c' argument looks like a single numeric RGB or RGBA sequence, which should be avoided as value-mapping will have precedence in case its length matches with 'x' & 'y'.  Please use a 2-D array with a single row if you really want to specify the same RGB or RGBA value for all points.\n",
      "'c' argument looks like a single numeric RGB or RGBA sequence, which should be avoided as value-mapping will have precedence in case its length matches with 'x' & 'y'.  Please use a 2-D array with a single row if you really want to specify the same RGB or RGBA value for all points.\n",
      "'c' argument looks like a single numeric RGB or RGBA sequence, which should be avoided as value-mapping will have precedence in case its length matches with 'x' & 'y'.  Please use a 2-D array with a single row if you really want to specify the same RGB or RGBA value for all points.\n",
      "'c' argument looks like a single numeric RGB or RGBA sequence, which should be avoided as value-mapping will have precedence in case its length matches with 'x' & 'y'.  Please use a 2-D array with a single row if you really want to specify the same RGB or RGBA value for all points.\n",
      "'c' argument looks like a single numeric RGB or RGBA sequence, which should be avoided as value-mapping will have precedence in case its length matches with 'x' & 'y'.  Please use a 2-D array with a single row if you really want to specify the same RGB or RGBA value for all points.\n",
      "'c' argument looks like a single numeric RGB or RGBA sequence, which should be avoided as value-mapping will have precedence in case its length matches with 'x' & 'y'.  Please use a 2-D array with a single row if you really want to specify the same RGB or RGBA value for all points.\n",
      "'c' argument looks like a single numeric RGB or RGBA sequence, which should be avoided as value-mapping will have precedence in case its length matches with 'x' & 'y'.  Please use a 2-D array with a single row if you really want to specify the same RGB or RGBA value for all points.\n"
     ]
    },
    {
     "data": {
      "image/png": "[encoded data removed]",
      "text/plain": [
       "<Figure size 432x288 with 1 Axes>"
      ]
     },
     "metadata": {},
     "output_type": "display_data"
    },
    {
     "name": "stderr",
     "output_type": "stream",
     "text": [
      "c:\\users\\roman\\appdata\\local\\programs\\python\\python36\\lib\\site-packages\\umap\\umap_.py:1383: UserWarning: n_neighbors is larger than the dataset size; truncating to X.shape[0] - 1\n",
      "  \"n_neighbors is larger than the dataset size; truncating to \"\n",
      "'c' argument looks like a single numeric RGB or RGBA sequence, which should be avoided as value-mapping will have precedence in case its length matches with 'x' & 'y'.  Please use a 2-D array with a single row if you really want to specify the same RGB or RGBA value for all points.\n",
      "'c' argument looks like a single numeric RGB or RGBA sequence, which should be avoided as value-mapping will have precedence in case its length matches with 'x' & 'y'.  Please use a 2-D array with a single row if you really want to specify the same RGB or RGBA value for all points.\n",
      "'c' argument looks like a single numeric RGB or RGBA sequence, which should be avoided as value-mapping will have precedence in case its length matches with 'x' & 'y'.  Please use a 2-D array with a single row if you really want to specify the same RGB or RGBA value for all points.\n",
      "'c' argument looks like a single numeric RGB or RGBA sequence, which should be avoided as value-mapping will have precedence in case its length matches with 'x' & 'y'.  Please use a 2-D array with a single row if you really want to specify the same RGB or RGBA value for all points.\n",
      "'c' argument looks like a single numeric RGB or RGBA sequence, which should be avoided as value-mapping will have precedence in case its length matches with 'x' & 'y'.  Please use a 2-D array with a single row if you really want to specify the same RGB or RGBA value for all points.\n",
      "'c' argument looks like a single numeric RGB or RGBA sequence, which should be avoided as value-mapping will have precedence in case its length matches with 'x' & 'y'.  Please use a 2-D array with a single row if you really want to specify the same RGB or RGBA value for all points.\n",
      "'c' argument looks like a single numeric RGB or RGBA sequence, which should be avoided as value-mapping will have precedence in case its length matches with 'x' & 'y'.  Please use a 2-D array with a single row if you really want to specify the same RGB or RGBA value for all points.\n",
      "'c' argument looks like a single numeric RGB or RGBA sequence, which should be avoided as value-mapping will have precedence in case its length matches with 'x' & 'y'.  Please use a 2-D array with a single row if you really want to specify the same RGB or RGBA value for all points.\n",
      "'c' argument looks like a single numeric RGB or RGBA sequence, which should be avoided as value-mapping will have precedence in case its length matches with 'x' & 'y'.  Please use a 2-D array with a single row if you really want to specify the same RGB or RGBA value for all points.\n",
      "'c' argument looks like a single numeric RGB or RGBA sequence, which should be avoided as value-mapping will have precedence in case its length matches with 'x' & 'y'.  Please use a 2-D array with a single row if you really want to specify the same RGB or RGBA value for all points.\n",
      "'c' argument looks like a single numeric RGB or RGBA sequence, which should be avoided as value-mapping will have precedence in case its length matches with 'x' & 'y'.  Please use a 2-D array with a single row if you really want to specify the same RGB or RGBA value for all points.\n",
      "'c' argument looks like a single numeric RGB or RGBA sequence, which should be avoided as value-mapping will have precedence in case its length matches with 'x' & 'y'.  Please use a 2-D array with a single row if you really want to specify the same RGB or RGBA value for all points.\n"
     ]
    },
    {
     "data": {
      "image/png": "[encoded data removed]",
      "text/plain": [
       "<Figure size 432x288 with 1 Axes>"
      ]
     },
     "metadata": {},
     "output_type": "display_data"
    }
   ],
   "source": [
    "from yellowbrick.text import UMAPVisualizer\n",
    "\n",
    "for patient in patients:\n",
    "    umap = UMAPVisualizer(labels=patient.num_days)\n",
    "    umap.fit(patient.matrix, patient.num_days)\n",
    "    umap.show()"
   ]
  },
  {
   "cell_type": "code",
   "execution_count": null,
   "metadata": {},
   "outputs": [],
   "source": []
  }
 ],
 "metadata": {
  "kernelspec": {
   "display_name": "Python 3",
   "language": "python",
   "name": "python3"
  },
  "language_info": {
   "codemirror_mode": {
    "name": "ipython",
    "version": 3
   },
   "file_extension": ".py",
   "mimetype": "text/x-python",
   "name": "python",
   "nbconvert_exporter": "python",
   "pygments_lexer": "ipython3",
   "version": "3.6.4"
  }
 },
 "nbformat": 4,
 "nbformat_minor": 4
}
