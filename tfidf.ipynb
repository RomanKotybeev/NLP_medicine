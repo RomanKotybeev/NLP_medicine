{
 "cells": [
  {
   "cell_type": "markdown",
   "metadata": {},
   "source": [
    "# Tf-idf"
   ]
  },
  {
   "cell_type": "code",
   "execution_count": 4,
   "metadata": {},
   "outputs": [],
   "source": [
    "import re\n",
    "import pathlib\n",
    "import numpy as np"
   ]
  },
  {
   "cell_type": "code",
   "execution_count": 5,
   "metadata": {},
   "outputs": [],
   "source": [
    "pathfile = r'E:\\STUDY\\8PM9I\\UIRS'\n",
    "dataset_file = pathlib.Path(pathfile).joinpath('temp')"
   ]
  },
  {
   "cell_type": "code",
   "execution_count": 6,
   "metadata": {},
   "outputs": [],
   "source": [
    "class Patient:\n",
    "    \"\"\"\n",
    "    In treatment_days every day is an element.\n",
    "    vectorizer is TfidfVectorizer\n",
    "    tfidf_scores contains dict of bags of words(bows) for every day\n",
    "    keybows conatins the highest num_keybows tfidf_scores \n",
    "    \"\"\"\n",
    "    num_keybows = 5\n",
    "    \n",
    "    def __init__(self):\n",
    "        self.treatment_days = []\n",
    "        self.vectorizer = None\n",
    "        self.tfidf_scores = []\n",
    "        self.keybows = []\n",
    "    def __len__(self):\n",
    "        return len(self.treatment_days)"
   ]
  },
  {
   "cell_type": "code",
   "execution_count": 7,
   "metadata": {},
   "outputs": [
    {
     "data": {
      "text/plain": [
       "[<__main__.Patient at 0x1f9141f16d8>,\n",
       " <__main__.Patient at 0x1f9141f14a8>,\n",
       " <__main__.Patient at 0x1f9141f1438>]"
      ]
     },
     "execution_count": 7,
     "metadata": {},
     "output_type": "execute_result"
    }
   ],
   "source": [
    "docs = (file for file in dataset_file.iterdir() if file.suffix == '.txt')\n",
    "\n",
    "date_pattern = re.compile(r'\\d\\d[.]\\d\\d[.]\\d\\d\\d\\d(.)')\n",
    "\n",
    "patients = []\n",
    "for patientfile in docs:\n",
    "    with open(patientfile, 'rt') as pf: \n",
    "        patient = Patient()\n",
    "        for i, day in enumerate(pf):\n",
    "            day = re.sub(date_pattern, '', day)\n",
    "            day = re.sub('\\n', '', day)\n",
    "            day = re.sub(r'[0-9]+', '', day)\n",
    "            patient.treatment_days.append(day)\n",
    "    patients.append(patient)\n",
    "patients"
   ]
  },
  {
   "cell_type": "code",
   "execution_count": 8,
   "metadata": {},
   "outputs": [],
   "source": [
    "\"\"\"Заполнить незаолненные дни предыдущим днем (считаем, что состояние пациента не изменилось)\"\"\"\n",
    "for patient in patients:\n",
    "    for i, day in enumerate(patient.treatment_days):\n",
    "        if day in [' ', '']:\n",
    "            patient.treatment_days[i] = patient.treatment_days[i-1]\n",
    "    \n",
    "#patients[0].treatment_days"
   ]
  },
  {
   "cell_type": "code",
   "execution_count": 9,
   "metadata": {},
   "outputs": [
    {
     "data": {
      "text/plain": [
       "['жалоба: на распирать боль, жжение, зуд в область левый голень, общий недомогание, слабость, разбитость, повышение температура до ,. локальный статус: на левый голень эритема с множество геморрагия, граница, чёткий, горячий на ощупь, отечь мягкий ткань умеренно выразить, тестовата консистенция, болезненность по периферия преобладает.',\n",
       " 'жалоба: на умеренный боль ',\n",
       " 'жалоба: чувствовать себя хороший, температура нормальный, местный явление начать регрессировать, маленький отечь и гиперемия. локальный статус: на левый голень эритема, болезненность незначительная. паховый лимфатический узел слева слегка слегка болезненны.',\n",
       " 'локальный статус: паховый лимфатический узел слева слегка безболезненны.',\n",
       " 'жалоба: местный явление существенно меньше. локальный статус: на левый голень эритема стать значительно бледнее.',\n",
       " 'жалоба: местный явление существенно меньше. локальный статус: на левый голень эритема стать значительно бледнее.',\n",
       " 'локальный статус: на голень бледнеть гиперемия, отцветать геморрагия, отечь незначительный, боль практически прошла.',\n",
       " 'локальный статус: состояние удовлетворительное. местный явление продолжать регрессировать.',\n",
       " 'локальный статус: краснота пройти, отечь также шелушение, пигментация на кожа голени.',\n",
       " 'локальный статус: местный явление незначительный, рассасываться геморрагии.',\n",
       " 'локальный статус: местный явление незначительный, рассасываться геморрагии.',\n",
       " 'локальный статус: местный явление купировать, на голень оставаться шелушение и пигментация.']"
      ]
     },
     "execution_count": 9,
     "metadata": {},
     "output_type": "execute_result"
    }
   ],
   "source": [
    "import pymorphy2\n",
    "morph = pymorphy2.MorphAnalyzer()\n",
    "\n",
    "for patient in patients:\n",
    "    for i, day in enumerate(patient.treatment_days):\n",
    "        words = day.split()\n",
    "        for word in words:    \n",
    "            p = morph.parse(word.strip(':,-'))[0]\n",
    "            day = day.replace(word.strip(':,-'), p.normal_form)\n",
    "        patient.treatment_days[i] = day\n",
    "patients[0].treatment_days"
   ]
  },
  {
   "cell_type": "code",
   "execution_count": 10,
   "metadata": {},
   "outputs": [],
   "source": [
    "from nltk.corpus import stopwords\n",
    "\n",
    "\n",
    "additional_stop_words = ['дата','время','осмотра','номер','пациента', 'локальный','статус','осмотр']\n",
    "russian_stopwords = stopwords.words(\"russian\")\n",
    "russian_stopwords += additional_stop_words\n",
    "#print(russian_stopwords)"
   ]
  },
  {
   "cell_type": "code",
   "execution_count": 16,
   "metadata": {},
   "outputs": [
    {
     "data": {
      "text/plain": [
       "12"
      ]
     },
     "execution_count": 16,
     "metadata": {},
     "output_type": "execute_result"
    }
   ],
   "source": [
    "from sklearn.feature_extraction.text import TfidfVectorizer\n",
    "\n",
    "\n",
    "for patient in patients:\n",
    "    if patient.vectorizer is None:\n",
    "        vectorizer = TfidfVectorizer(stop_words=russian_stopwords, ngram_range=(1, 3))\n",
    "        matrix = vectorizer.fit_transform(patient.treatment_days)\n",
    "        feature_names = vectorizer.get_feature_names()\n",
    "        patient.vectorizer = vectorizer\n",
    "        \n",
    "        for iday in range(len(patient.treatment_days)):\n",
    "            feature_index = matrix[iday,:].nonzero()[1]\n",
    "            scores = zip(feature_index, [matrix[iday,x] for x in feature_index])\n",
    "            tfidf = {}\n",
    "            for word, value in [(feature_names[i], value) for (i, value) in scores]:\n",
    "                tfidf[word] = value\n",
    "            patient.tfidf_scores.append(tfidf)\n",
    "        \n",
    "    \n",
    "    \n",
    "len(patients[0].tfidf_scores)"
   ]
  },
  {
   "cell_type": "code",
   "execution_count": 14,
   "metadata": {},
   "outputs": [
    {
     "data": {
      "text/plain": [
       "{'повышение': 0.24447613932702925,\n",
       " 'температура': 0.24447613932702925,\n",
       " 'слабость': 0.24447613932702925,\n",
       " 'головной': 0.24447613932702925,\n",
       " 'разбитость': 0.24447613932702925}"
      ]
     },
     "execution_count": 14,
     "metadata": {},
     "output_type": "execute_result"
    }
   ],
   "source": [
    "#bow - bag of words\n",
    "num_keybows = Patient.num_keybows\n",
    "\n",
    "for patient in patients:\n",
    "    for iday in range(len(patient.treatment_days)):\n",
    "        bows = patient.tfidf_scores[iday]\n",
    "        sorted_ = sorted(bows, key=bows.get, reverse=True)[:num_keybows]\n",
    "        tfidf = {}\n",
    "        for keybow in sorted_:\n",
    "            tfidf[keybow] = patient.tfidf_scores[iday][keybow]\n",
    "        patient.keybows.append(tfidf)\n",
    "    \n",
    "patients[1].keybows[0]"
   ]
  },
  {
   "cell_type": "code",
   "execution_count": 253,
   "metadata": {},
   "outputs": [],
   "source": [
    "# import pandas as pd\n",
    "# \"\"\"Pandas dataframe\"\"\"\n",
    "\n",
    "# df = pd.DataFrame(data=dataset[0].toarray())\n",
    "# df.columns = vectorizers[0].get_feature_names()\n",
    "# df.head()"
   ]
  },
  {
   "cell_type": "code",
   "execution_count": 142,
   "metadata": {},
   "outputs": [
    {
     "name": "stderr",
     "output_type": "stream",
     "text": [
      "c:\\users\\roman\\appdata\\local\\programs\\python\\python36\\lib\\site-packages\\sklearn\\decomposition\\pca.py:445: RuntimeWarning: invalid value encountered in true_divide\n",
      "  explained_variance_ = (S ** 2) / (n_samples - 1)\n",
      "W1206 22:18:56.748055  8020 legend.py:1289] No handles with labels found to put in legend.\n"
     ]
    },
    {
     "data": {
      "image/png": "[encoded data removed]",
      "text/plain": [
       "<Figure size 432x288 with 1 Axes>"
      ]
     },
     "metadata": {},
     "output_type": "display_data"
    }
   ],
   "source": [
    "\"\"\"PCA in sklearn\"\"\"\n",
    "from sklearn.decomposition import PCA\n",
    "\n",
    "pca = PCA(n_components=None)\n",
    "X_pca = pca.fit_transform(df.head(1))\n",
    "cum_var_exp = np.cumsum(pca.explained_variance_ratio_)\n",
    "# plt.bar(range(1,df.shape[0]+1), pca.explained_variance_ratio_, alpha=0.5, align='center', label='индивидуальная объясненная дисперсия')\n",
    "# plt.step(range(1,df.shape[0]+1), cum_var_exp, where='mid', label='кумулятивая объясненная дисперсия')\n",
    "# plt.ylabel('доля объясненной дисперсии')\n",
    "# plt.xlabel('главные компоненты')\n",
    "\n",
    "plt.bar(10, pca.explained_variance_ratio_, alpha=0.5, align='center')\n",
    "plt.legend(loc='best')\n",
    "plt.show()"
   ]
  },
  {
   "cell_type": "code",
   "execution_count": 16,
   "metadata": {},
   "outputs": [
    {
     "data": {
      "text/plain": [
       "12"
      ]
     },
     "execution_count": 16,
     "metadata": {},
     "output_type": "execute_result"
    }
   ],
   "source": []
  },
  {
   "cell_type": "code",
   "execution_count": null,
   "metadata": {},
   "outputs": [],
   "source": [
    "for da"
   ]
  },
  {
   "cell_type": "code",
   "execution_count": null,
   "metadata": {},
   "outputs": [],
   "source": []
  },
  {
   "cell_type": "code",
   "execution_count": 72,
   "metadata": {},
   "outputs": [
    {
     "data": {
      "text/plain": [
       "(12, 10)"
      ]
     },
     "execution_count": 72,
     "metadata": {},
     "output_type": "execute_result"
    }
   ],
   "source": []
  },
  {
   "cell_type": "code",
   "execution_count": 12,
   "metadata": {},
   "outputs": [
    {
     "data": {
      "text/plain": [
       "(11, 105)"
      ]
     },
     "execution_count": 12,
     "metadata": {},
     "output_type": "execute_result"
    }
   ],
   "source": [
    "from sklearn.model_selection import train_test_split\n",
    "from sklearn.preprocessing import StandardScaler\n",
    "X  = df.iloc[:,:].values\n",
    "X.shape"
   ]
  },
  {
   "cell_type": "code",
   "execution_count": 22,
   "metadata": {},
   "outputs": [
    {
     "data": {
      "text/plain": [
       "numpy.ndarray"
      ]
     },
     "execution_count": 22,
     "metadata": {},
     "output_type": "execute_result"
    }
   ],
   "source": []
  },
  {
   "cell_type": "code",
   "execution_count": 13,
   "metadata": {},
   "outputs": [],
   "source": [
    "cov_mat = np.cov(X.T)\n",
    "eigen_vals, eigen_vecs = np.linalg.eig(cov_mat)\n",
    "#eigen_vals"
   ]
  },
  {
   "cell_type": "code",
   "execution_count": 16,
   "metadata": {},
   "outputs": [
    {
     "name": "stderr",
     "output_type": "stream",
     "text": [
      "c:\\users\\roman\\appdata\\local\\programs\\python\\python36\\lib\\site-packages\\matplotlib\\transforms.py:827: ComplexWarning: Casting complex values to real discards the imaginary part\n",
      "  points = np.array(args, dtype=float).reshape(2, 2)\n",
      "c:\\users\\roman\\appdata\\local\\programs\\python\\python36\\lib\\site-packages\\numpy\\core\\numeric.py:501: ComplexWarning: Casting complex values to real discards the imaginary part\n",
      "  return array(a, dtype, copy=False, order=order)\n"
     ]
    },
    {
     "data": {
      "image/png": "[encoded data removed]",
      "text/plain": [
       "<Figure size 2304x864 with 1 Axes>"
      ]
     },
     "metadata": {
      "needs_background": "light"
     },
     "output_type": "display_data"
    }
   ],
   "source": [
    "import matplotlib.pyplot as plt\n",
    "\n",
    "tot = sum(eigen_vals)\n",
    "var_exp = [(i / tot) for i in\n",
    "          sorted(eigen_vals, reverse=True)]\n",
    "cum_var_exp = np.cumsum(var_exp)\n",
    "\n",
    "plt.figure(figsize=(32,12))\n",
    "plt.bar(range(1,X.shape[1]+1), var_exp, alpha=0.5, align='center', label='индивидуальная объясненная дисперсия')\n",
    "plt.step(range(1,X.shape[1]+1), cum_var_exp, where='mid', label='кумулятивая объясненная дисперсия')\n",
    "plt.ylabel('доля объясненной дисперсии')\n",
    "plt.xlabel('главные компоненты')\n",
    "plt.legend(loc='best')\n",
    "plt.show()"
   ]
  },
  {
   "cell_type": "code",
   "execution_count": 17,
   "metadata": {},
   "outputs": [
    {
     "data": {
      "text/plain": [
       "array([0.63018547, 0.85209853, 1.        , 1.        , 1.        ,\n",
       "       1.        , 1.        , 1.        , 1.        , 1.        ,\n",
       "       1.        ])"
      ]
     },
     "execution_count": 17,
     "metadata": {},
     "output_type": "execute_result"
    }
   ],
   "source": [
    "from sklearn.decomposition import PCA\n",
    "\n",
    "pca = PCA(n_components=None)\n",
    "X_pca = pca.fit_transform(X)\n",
    "cum_var_exp = np.cumsum(pca.explained_variance_ratio_)\n",
    "cum_var_exp "
   ]
  },
  {
   "cell_type": "code",
   "execution_count": 18,
   "metadata": {},
   "outputs": [],
   "source": [
    "\n",
    "# plt.bar(range(0,X.shape[0]), pca.explained_variance_ratio_, alpha=0.5, align='center', label='индивидуальная объясненная дисперсия')\n",
    "# plt.step(range(0,X.shape[1]), cum_var_exp, where='mid', label='кумулятивая объясненная дисперсия')\n",
    "# plt.ylabel('доля объясненной дисперсии')\n",
    "# plt.xlabel('главные компоненты')\n",
    "# plt.legend(loc='best')\n",
    "# plt.show()"
   ]
  },
  {
   "cell_type": "code",
   "execution_count": 19,
   "metadata": {},
   "outputs": [
    {
     "name": "stdout",
     "output_type": "stream",
     "text": [
      "бисакод\n",
      "бисакодила диурез\n",
      "бисакодила диурез патолог\n",
      "бол\n",
      "боли слаб\n",
      "боли слабость стул\n",
      "волосист\n",
      "волосистой част\n",
      "волосистой части голов\n",
      "выздоровлен\n",
      "выписыва\n"
     ]
    },
    {
     "ename": "IndexError",
     "evalue": "index 11 is out of bounds for axis 0 with size 11",
     "output_type": "error",
     "traceback": [
      "\u001b[1;31m---------------------------------------------------------------------------\u001b[0m",
      "\u001b[1;31mIndexError\u001b[0m                                Traceback (most recent call last)",
      "\u001b[1;32m<ipython-input-19-ea9951d0028a>\u001b[0m in \u001b[0;36m<module>\u001b[1;34m\u001b[0m\n\u001b[0;32m      6\u001b[0m \u001b[1;33m\u001b[0m\u001b[0m\n\u001b[0;32m      7\u001b[0m \u001b[1;32mfor\u001b[0m \u001b[0mi\u001b[0m\u001b[1;33m,\u001b[0m \u001b[0mword\u001b[0m \u001b[1;32min\u001b[0m \u001b[0menumerate\u001b[0m\u001b[1;33m(\u001b[0m\u001b[0mfeature_names\u001b[0m\u001b[1;33m)\u001b[0m\u001b[1;33m:\u001b[0m\u001b[1;33m\u001b[0m\u001b[0m\n\u001b[1;32m----> 8\u001b[1;33m     \u001b[0mplt\u001b[0m\u001b[1;33m.\u001b[0m\u001b[0mannotate\u001b[0m\u001b[1;33m(\u001b[0m\u001b[0mword\u001b[0m\u001b[1;33m,\u001b[0m \u001b[0mxy\u001b[0m\u001b[1;33m=\u001b[0m\u001b[1;33m(\u001b[0m\u001b[0mresult\u001b[0m\u001b[1;33m[\u001b[0m\u001b[0mi\u001b[0m\u001b[1;33m,\u001b[0m \u001b[1;36m0\u001b[0m\u001b[1;33m]\u001b[0m\u001b[1;33m,\u001b[0m \u001b[0mresult\u001b[0m\u001b[1;33m[\u001b[0m\u001b[0mi\u001b[0m\u001b[1;33m,\u001b[0m \u001b[1;36m1\u001b[0m\u001b[1;33m]\u001b[0m\u001b[1;33m)\u001b[0m\u001b[1;33m)\u001b[0m\u001b[1;33m\u001b[0m\u001b[0m\n\u001b[0m\u001b[0;32m      9\u001b[0m     \u001b[0mprint\u001b[0m\u001b[1;33m(\u001b[0m\u001b[0mword\u001b[0m\u001b[1;33m)\u001b[0m\u001b[1;33m\u001b[0m\u001b[0m\n\u001b[0;32m     10\u001b[0m \u001b[0mplt\u001b[0m\u001b[1;33m.\u001b[0m\u001b[0mshow\u001b[0m\u001b[1;33m(\u001b[0m\u001b[1;33m)\u001b[0m\u001b[1;33m\u001b[0m\u001b[0m\n",
      "\u001b[1;31mIndexError\u001b[0m: index 11 is out of bounds for axis 0 with size 11"
     ]
    },
    {
     "data": {
      "image/png": "[encoded data removed]",
      "text/plain": [
       "<Figure size 432x288 with 1 Axes>"
      ]
     },
     "metadata": {
      "needs_background": "light"
     },
     "output_type": "display_data"
    }
   ],
   "source": [
    "pca = PCA(n_components=2)\n",
    "result = pca.fit_transform(X)\n",
    "# create a scatter plot of the projection\n",
    "\n",
    "plt.scatter(result[:, 0], result[:, 1])\n",
    "\n",
    "for i, word in enumerate(feature_names):\n",
    "    plt.annotate(word, xy=(result[i, 0], result[i, 1]))\n",
    "    print(word)\n",
    "plt.show()"
   ]
  },
  {
   "cell_type": "markdown",
   "metadata": {},
   "source": []
  },
  {
   "cell_type": "code",
   "execution_count": 36,
   "metadata": {},
   "outputs": [
    {
     "name": "stdout",
     "output_type": "stream",
     "text": [
      "IPython             botocore            jupyter             scipy\n",
      "PIL                 builtins            jupyter_client      secrets\n",
      "__future__          bz2                 jupyter_console     select\n",
      "_ast                cProfile            jupyter_core        selectors\n",
      "_asyncio            calendar            keras               send2trash\n",
      "_bisect             catalogue           keras_applications  setuptools\n",
      "_blake2             certifi             keras_preprocessing shelve\n",
      "_bootlocale         cgi                 keyword             shlex\n",
      "_bz2                cgitb               kiwisolver          shutil\n",
      "_codecs             chardet             lib2to3             signal\n",
      "_codecs_cn          chunk               linecache           site\n",
      "_codecs_hk          click               locale              six\n",
      "_codecs_iso2022     cmath               logging             skcuda\n",
      "_codecs_jp          cmd                 lzma                sklearn\n",
      "_codecs_kr          code                macpath             smart_open\n",
      "_codecs_tw          codecs              macurl2path         smtpd\n",
      "_collections        codeop              mailbox             smtplib\n",
      "_collections_abc    collections         mailcap             sndhdr\n",
      "_compat_pickle      colorama            mako                socket\n",
      "_compression        colorsys            markdown            socketserver\n",
      "_csv                compileall          markupsafe          spacy\n",
      "_ctypes             concurrent          marshal             sqlite3\n",
      "_ctypes_test        configparser        math                sqlparse\n",
      "_datetime           contextlib          matplotlib          sre_compile\n",
      "_decimal            copy                mccabe              sre_constants\n",
      "_dummy_thread       copyreg             mimetypes           sre_parse\n",
      "_elementtree        coverage            mistune             srsly\n",
      "_findvs             crypt               mmap                ssl\n",
      "_functools          csv                 modulefinder        stat\n",
      "_hashlib            ctypes              more_itertools      statistics\n",
      "_heapq              curses              msilib              storemagic\n",
      "_imp                cv2                 msvcrt              string\n",
      "_io                 cycler              multiprocessing     stringprep\n",
      "_json               cymem               murmurhash          struct\n",
      "_locale             cythonmagic         mypackage           subprocess\n",
      "_lsprof             datetime            nbconvert           sunau\n",
      "_lzma               dateutil            nbformat            symbol\n",
      "_markupbase         dawg_python         netrc               sympyprinting\n",
      "_md5                dbm                 nltk                symtable\n",
      "_msi                decimal             nntplib             sys\n",
      "_multibytecodec     decorator           notebook            sysconfig\n",
      "_multiprocessing    defusedxml          nt                  tabnanny\n",
      "_opcode             difflib             ntpath              tarfile\n",
      "_operator           dis                 nturl2path          telnetlib\n",
      "_osx_support        distutils           numbers             tempfile\n",
      "_overlapped         django              numpy               tensorboard\n",
      "_pickle             dlib                opcode              tensorflow\n",
      "_pydecimal          docopt              operator            termcolor\n",
      "_pyio               docs                optparse            terminado\n",
      "_pytest             doctest             os                  test\n",
      "_random             docutils            pandas              testpath\n",
      "_sha1               dummy_threading     pandocfilters       tests\n",
      "_sha256             easy_install        parser              textwrap\n",
      "_sha3               email               parso               thinc\n",
      "_sha512             encodings           pathlib             this\n",
      "_signal             ensurepip           pdb                 threading\n",
      "_sitebuiltins       entrypoints         pickle              time\n",
      "_socket             enum                pickleshare         timeit\n",
      "_sqlite3            errno               pickletools         tinymce\n",
      "_sre                face_recognition    pip                 tkinter\n",
      "_ssl                face_recognition_models pipes               token\n",
      "_stat               faulthandler        pkg_resources       tokenize\n",
      "_string             filecmp             pkgutil             tornado\n",
      "_strptime           fileinput           plac                tqdm\n",
      "_struct             flake8              plac_core           trace\n",
      "_symtable           fnmatch             plac_ext            traceback\n",
      "_testbuffer         formatter           plac_tk             tracemalloc\n",
      "_testcapi           fractions           platform            traitlets\n",
      "_testconsole        ftplib              plistlib            tty\n",
      "_testimportmultiple functools           pluggy              turtle\n",
      "_testmultiphase     gast                poplib              turtledemo\n",
      "_thread             gc                  posixpath           types\n",
      "_threading_local    genericpath         pprint              typing\n",
      "_tkinter            gensim              preshed             unicodedata\n",
      "_tracemalloc        getopt              profile             unittest\n",
      "_warnings           getpass             prometheus_client   urllib\n",
      "_weakref            gettext             prompt_toolkit      urllib3\n",
      "_weakrefset         glob                pstats              uu\n",
      "_winapi             grpc                pty                 uuid\n",
      "_yaml               gzip                py                  venv\n",
      "abc                 h5py                py_compile          warnings\n",
      "absl                hashlib             pyclbr              wasabi\n",
      "aifc                heapq               pycodestyle         wave\n",
      "antigravity         hmac                pycuda              wcwidth\n",
      "appdirs             html                pydoc               weakref\n",
      "argparse            http                pydoc_data          webbrowser\n",
      "array               idlelib             pyexpat             webencodings\n",
      "ast                 idna                pyflakes            werkzeug\n",
      "astor               imaplib             pygments            wheel\n",
      "asynchat            imghdr              pylab               widgetsnbextension\n",
      "asyncio             imp                 pymorphy2           winpty\n",
      "asyncore            importlib           pymorphy2_dicts     winreg\n",
      "atexit              importlib_metadata  pyparsing           winsound\n",
      "atomicwrites        inspect             pytest              wsgiref\n",
      "attr                io                  pytools             xdrlib\n",
      "audioop             ipaddress           pytz                xml\n",
      "autoreload          ipykernel           qtconsole           xmlrpc\n",
      "backcall            ipykernel_launcher  queue               xxsubtype\n",
      "base64              ipython_genutils    quopri              yaml\n",
      "bdb                 ipywidgets          random              zipapp\n",
      "bin                 itertools           re                  zipfile\n",
      "binascii            jedi                reprlib             zipimport\n",
      "binhex              jinja2              requests            zipp\n",
      "bisect              jmespath            rlcompleter         zlib\n",
      "bleach              joblib              rmagic              zmq\n",
      "blis                jsmin               runpy               \n",
      "boto                json                s3transfer          \n",
      "boto3               jsonschema          sched               \n",
      "\n",
      "Enter any module name to get more help.  Or, type \"modules spam\" to search\n",
      "for modules whose name or summary contain the string \"spam\".\n",
      "\n"
     ]
    },
    {
     "name": "stderr",
     "output_type": "stream",
     "text": [
      "c:\\users\\roman\\appdata\\local\\programs\\python\\python36\\lib\\pkgutil.py:107: VisibleDeprecationWarning: zmq.eventloop.minitornado is deprecated in pyzmq 14.0 and will be removed.\n",
      "    Install tornado itself to use zmq with the tornado IOLoop.\n",
      "    \n",
      "  yield from walk_packages(path, info.name+'.', onerror)\n"
     ]
    }
   ],
   "source": []
  },
  {
   "cell_type": "code",
   "execution_count": null,
   "metadata": {},
   "outputs": [],
   "source": []
  },
  {
   "cell_type": "code",
   "execution_count": null,
   "metadata": {},
   "outputs": [],
   "source": []
  }
 ],
 "metadata": {
  "kernelspec": {
   "display_name": "Python 3",
   "language": "python",
   "name": "python3"
  },
  "language_info": {
   "codemirror_mode": {
    "name": "ipython",
    "version": 3
   },
   "file_extension": ".py",
   "mimetype": "text/x-python",
   "name": "python",
   "nbconvert_exporter": "python",
   "pygments_lexer": "ipython3",
   "version": "3.6.4"
  }
 },
 "nbformat": 4,
 "nbformat_minor": 4
}
