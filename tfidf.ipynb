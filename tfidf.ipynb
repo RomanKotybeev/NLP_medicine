{
 "cells": [
  {
   "cell_type": "markdown",
   "metadata": {},
   "source": [
    "# Tf-idf"
   ]
  },
  {
   "cell_type": "code",
   "execution_count": 104,
   "metadata": {},
   "outputs": [],
   "source": [
    "import re\n",
    "import pathlib\n",
    "import pandas as pd\n",
    "import numpy as np"
   ]
  },
  {
   "cell_type": "code",
   "execution_count": 123,
   "metadata": {},
   "outputs": [],
   "source": [
    "pathfile = r'E:\\STUDY\\8PM9I\\UIRS'\n",
    "dataset_file = pathlib.Path(pathfile).joinpath('temp')"
   ]
  },
  {
   "cell_type": "code",
   "execution_count": 124,
   "metadata": {},
   "outputs": [],
   "source": [
    "class Patient:\n",
    "    def __init__(self):\n",
    "        self.treatment_days = []\n",
    "    def __len__(self):\n",
    "        return len(self.treatment_days)"
   ]
  },
  {
   "cell_type": "code",
   "execution_count": 148,
   "metadata": {},
   "outputs": [
    {
     "data": {
      "text/plain": [
       "[' Жалобы: На распирающую боль, жжение, зуд в области левой голени, общее недомогание, слабость, разбитость, повышение температуры до 38,6. Локальный статус: на левой голени эритема с множеством геморрагий, границы, четкие, горячая на ощупь, отек мягких тканей умеренно выражен, тестоватой консистенции, болезненность по периферии преобладает.',\n",
       " ' Жалобы: На умеренную боль ',\n",
       " ' Жалобы: Чувствует себя лучше, температура нормальная, местные явления начали регрессировать, меньше отек и гиперемия. Локальный статус: На левой голени эритема, болезненность незначительная. Паховые лимфатические узлы слева слегка слегка болезненны.',\n",
       " ' Локальный статус: Паховые лимфатические узлы слева слегка безболезненны.',\n",
       " ' Жалобы: Местные явления существенно меньше. Локальный статус: На левой голени эритема стала значительно бледнее.',\n",
       " ' Жалобы: Местные явления существенно меньше. Локальный статус: На левой голени эритема стала значительно бледнее.',\n",
       " ' Локальный статус: На голени бледнеющая гиперемия, отцветающие геморрагии, отек незначительный, боль практически прошла.',\n",
       " ' Локальный статус: Состояние удовлетворительное. Местные явления продолжают регрессировать.',\n",
       " ' Локальный статус: Краснота прошла, отек также шелушение, пигментация на коже голени.',\n",
       " ' Локальный статус: Местные явления незначительные, рассасывающиеся геморрагии.',\n",
       " ' Локальный статус: Местные явления незначительные, рассасывающиеся геморрагии.',\n",
       " ' Локальный статус: Местные явления купированы, на голени остается шелушение и пигментация.']"
      ]
     },
     "execution_count": 148,
     "metadata": {},
     "output_type": "execute_result"
    }
   ],
   "source": [
    "docs = (file for file in dataset_file.iterdir() if file.suffix == '.txt')\n",
    "\n",
    "date_pattern = re.compile(r'\\d\\d[.]\\d\\d[.]\\d\\d\\d\\d')\n",
    "\n",
    "patients = []\n",
    "for patientfile in docs:\n",
    "    with open(patientfile, 'rt') as pf: \n",
    "        patient = Patient()\n",
    "        for i, day in enumerate(pf):\n",
    "            day = re.sub(date_pattern, '', day)\n",
    "            day = re.sub('\\n', '', day)\n",
    "            patient.treatment_days.append(day)\n",
    "    patients.append(patient)"
   ]
  },
  {
   "cell_type": "code",
   "execution_count": 149,
   "metadata": {},
   "outputs": [
    {
     "data": {
      "text/plain": [
       "[' Жалобы: На распирающую боль, жжение, зуд в области левой голени, общее недомогание, слабость, разбитость, повышение температуры до 38,6. Локальный статус: на левой голени эритема с множеством геморрагий, границы, четкие, горячая на ощупь, отек мягких тканей умеренно выражен, тестоватой консистенции, болезненность по периферии преобладает.',\n",
       " ' Жалобы: На умеренную боль ',\n",
       " ' Жалобы: Чувствует себя лучше, температура нормальная, местные явления начали регрессировать, меньше отек и гиперемия. Локальный статус: На левой голени эритема, болезненность незначительная. Паховые лимфатические узлы слева слегка слегка болезненны.',\n",
       " ' Локальный статус: Паховые лимфатические узлы слева слегка безболезненны.',\n",
       " ' Жалобы: Местные явления существенно меньше. Локальный статус: На левой голени эритема стала значительно бледнее.',\n",
       " ' Жалобы: Местные явления существенно меньше. Локальный статус: На левой голени эритема стала значительно бледнее.',\n",
       " ' Локальный статус: На голени бледнеющая гиперемия, отцветающие геморрагии, отек незначительный, боль практически прошла.',\n",
       " ' Локальный статус: Состояние удовлетворительное. Местные явления продолжают регрессировать.',\n",
       " ' Локальный статус: Краснота прошла, отек также шелушение, пигментация на коже голени.',\n",
       " ' Локальный статус: Местные явления незначительные, рассасывающиеся геморрагии.',\n",
       " ' Локальный статус: Местные явления незначительные, рассасывающиеся геморрагии.',\n",
       " ' Локальный статус: Местные явления купированы, на голени остается шелушение и пигментация.']"
      ]
     },
     "execution_count": 149,
     "metadata": {},
     "output_type": "execute_result"
    }
   ],
   "source": [
    "\"\"\"Заполнить незаолненные дни предыдущим днем (сичтаем, что состояние пациента не изменилось)\"\"\"\n",
    "for paient in patients:\n",
    "    for i, day in enumerate(patient.treatment_days):\n",
    "        if day == '' or day == ' ':\n",
    "            patient.treatment_days[i] = patient.treatment_days[i-1]\n",
    "    \n",
    "patients[0].treatment_days"
   ]
  },
  {
   "cell_type": "code",
   "execution_count": 151,
   "metadata": {},
   "outputs": [
    {
     "name": "stdout",
     "output_type": "stream",
     "text": [
      "['и', 'в', 'во', 'не', 'что', 'он', 'на', 'я', 'с', 'со', 'как', 'а', 'то', 'все', 'она', 'так', 'его', 'но', 'да', 'ты', 'к', 'у', 'же', 'вы', 'за', 'бы', 'по', 'только', 'ее', 'мне', 'было', 'вот', 'от', 'меня', 'еще', 'нет', 'о', 'из', 'ему', 'теперь', 'когда', 'даже', 'ну', 'вдруг', 'ли', 'если', 'уже', 'или', 'ни', 'быть', 'был', 'него', 'до', 'вас', 'нибудь', 'опять', 'уж', 'вам', 'ведь', 'там', 'потом', 'себя', 'ничего', 'ей', 'может', 'они', 'тут', 'где', 'есть', 'надо', 'ней', 'для', 'мы', 'тебя', 'их', 'чем', 'была', 'сам', 'чтоб', 'без', 'будто', 'чего', 'раз', 'тоже', 'себе', 'под', 'будет', 'ж', 'тогда', 'кто', 'этот', 'того', 'потому', 'этого', 'какой', 'совсем', 'ним', 'здесь', 'этом', 'один', 'почти', 'мой', 'тем', 'чтобы', 'нее', 'сейчас', 'были', 'куда', 'зачем', 'всех', 'никогда', 'можно', 'при', 'наконец', 'два', 'об', 'другой', 'хоть', 'после', 'над', 'больше', 'тот', 'через', 'эти', 'нас', 'про', 'всего', 'них', 'какая', 'много', 'разве', 'три', 'эту', 'моя', 'впрочем', 'хорошо', 'свою', 'этой', 'перед', 'иногда', 'лучше', 'чуть', 'том', 'нельзя', 'такой', 'им', 'более', 'всегда', 'конечно', 'всю', 'между', 'дата', 'время', 'осмотра', 'номер', 'пациента', 'локальный', 'статус', 'осмотр']\n"
     ]
    }
   ],
   "source": [
    "from nltk.corpus import stopwords\n",
    "\n",
    "\n",
    "additional_stop_words = ['дата','время','осмотра','номер','пациента', 'локальный','статус','осмотр']\n",
    "russian_stopwords = stopwords.words(\"russian\")\n",
    "russian_stopwords += additional_stop_words\n",
    "print(russian_stopwords)"
   ]
  },
  {
   "cell_type": "code",
   "execution_count": 160,
   "metadata": {},
   "outputs": [
    {
     "data": {
      "text/plain": [
       "(12, 249)"
      ]
     },
     "execution_count": 160,
     "metadata": {},
     "output_type": "execute_result"
    }
   ],
   "source": [
    "from sklearn.feature_extraction.text import TfidfVectorizer\n",
    "\n",
    "\n",
    "\n",
    "vectorizer = TfidfVectorizer(stop_words=russian_stopwords, ngram_range=(1, 3))\n",
    "\n",
    "treatment_days = patients[0].treatment_days\n",
    "matrix = vectorizer.fit_transform(treatment_days).toarray()\n",
    "matrix.shape"
   ]
  },
  {
   "cell_type": "code",
   "execution_count": 161,
   "metadata": {},
   "outputs": [
    {
     "name": "stdout",
     "output_type": "stream",
     "text": [
      "['38', '38 лев', '38 левой голен', 'безболезнен', 'бледн', 'бледнеющ', 'бледнеющая гиперем', 'бледнеющая гиперемия отцвета', 'болезнен', 'болезненность незначительн', 'болезненность незначительная пахов', 'болезненность перифер', 'болезненность периферии преоблада', 'болезнен', 'бол', 'боль жжен', 'боль жжение зуд', 'боль практическ', 'боль практически прошл', 'выраж', 'выражен тестоват', 'выражен тестоватой консистенц', 'геморраг', 'геморрагии отек', 'геморрагии отек незначительн', 'геморраг', 'геморрагий границ', 'геморрагий границы четк', 'гиперем', 'гиперемия лев', 'гиперемия левой голен', 'гиперемия отцвета', 'гиперемия отцветающие геморраг', 'голен', 'голени бледнеющ', 'голени бледнеющая гиперем', 'голени общ', 'голени общее недомоган', 'голени оста', 'голени остается шелушен', 'голени эритем', 'голени эритема болезнен', 'голени эритема множеств', 'голени эритема ста', 'горяч', 'горячая ощуп', 'горячая ощупь отек', 'границ', 'границы четк', 'границы четкие горяч', 'жалоб', 'жалобы местн', 'жалобы местные явлен', 'жалобы распира', 'жалобы распирающую бол', 'жалобы умерен', 'жалобы умеренную бол', 'жалобы чувств', 'жалобы чувствует температур', 'жжен', 'жжение зуд', 'жжение зуд област', 'значительн', 'значительно бледн', 'зуд', 'зуд област', 'зуд области лев', 'кож', 'коже голен', 'консистенц', 'консистенции болезнен', 'консистенции болезненность перифер', 'краснот', 'краснота прошл', 'краснота прошла отек', 'купирова', 'купированы голен', 'купированы голени оста', 'лев', 'левой голен', 'левой голени общ', 'левой голени эритем', 'лимфатическ', 'лимфатические узл', 'лимфатические узлы слев', 'меньш', 'меньше лев', 'меньше левой голен', 'меньше отек', 'меньше отек гиперем', 'местн', 'местные явлен', 'местные явления купирова', 'местные явления нача', 'местные явления незначительн', 'местные явления продолжа', 'местные явления существен', 'множеств', 'множеством геморраг', 'множеством геморрагий границ', 'мягк', 'мягких ткан', 'мягких тканей умерен', 'нача', 'начали регрессирова', 'начали регрессировать меньш', 'недомоган', 'недомогание слаб', 'недомогание слабость разбит', 'незначительн', 'незначительная пахов', 'незначительная паховые лимфатическ', 'незначительн', 'незначительные рассасыва', 'незначительные рассасывающиеся геморраг', 'незначительн', 'незначительный бол', 'незначительный боль практическ', 'нормальн', 'нормальная местн', 'нормальная местные явлен', 'област', 'области лев', 'области левой голен', 'общ', 'общее недомоган', 'общее недомогание слаб', 'оста', 'остается шелушен', 'остается шелушение пигментац', 'отек', 'отек гиперем', 'отек гиперемия лев', 'отек мягк', 'отек мягких ткан', 'отек незначительн', 'отек незначительный бол', 'отек такж', 'отек также шелушен', 'отцвета', 'отцветающие геморраг', 'отцветающие геморрагии отек', 'ощуп', 'ощупь отек', 'ощупь отек мягк', 'пахов', 'паховые лимфатическ', 'паховые лимфатические узл', 'перифер', 'периферии преоблада', 'пигментац', 'пигментация кож', 'пигментация коже голен', 'повышен', 'повышение температур', 'повышение температуры 38', 'практическ', 'практически прошл', 'преоблада', 'продолжа', 'продолжают регрессирова', 'прошл', 'прошла отек', 'прошла отек такж', 'разбит', 'разбитость повышен', 'разбитость повышение температур', 'распира', 'распирающую бол', 'распирающую боль жжен', 'рассасыва', 'рассасывающиеся геморраг', 'регрессирова', 'регрессировать меньш', 'регрессировать меньше отек', 'слабост', 'слабость разбит', 'слабость разбитость повышен', 'слев', 'слева слегк', 'слева слегка безболезнен', 'слева слегка слегк', 'слегк', 'слегка безболезнен', 'слегка болезнен', 'слегка слегк', 'слегка слегка болезнен', 'состоян', 'состояние удовлетворительн', 'состояние удовлетворительное местн', 'стал', 'стала значительн', 'стала значительно бледн', 'существен', 'существенно меньш', 'существенно меньше лев', 'такж', 'также шелушен', 'также шелушение пигментац', 'температур', 'температура нормальн', 'температура нормальная местн', 'температур', 'температуры 38', 'температуры 38 лев', 'тестоват', 'тестоватой консистенц', 'тестоватой консистенции болезнен', 'ткан', 'тканей умерен', 'тканей умеренно выраж', 'удовлетворительн', 'удовлетворительное местн', 'удовлетворительное местные явлен', 'узл', 'узлы слев', 'узлы слева слегк', 'умерен', 'умеренно выраж', 'умеренно выражен тестоват', 'умерен', 'умеренную бол', 'четк', 'четкие горяч', 'четкие горячая ощуп', 'чувств', 'чувствует температур', 'чувствует температура нормальн', 'шелушен', 'шелушение пигментац', 'шелушение пигментация кож', 'эритем', 'эритема болезнен', 'эритема болезненность незначительн', 'эритема множеств', 'эритема множеством геморраг', 'эритема ста', 'эритема стала значительн', 'явлен', 'явления купирова', 'явления купированы голен', 'явления нача', 'явления начали регрессирова', 'явления незначительн', 'явления незначительные рассасыва', 'явления продолжа', 'явления продолжают регрессирова', 'явления существен', 'явления существенно меньш']\n"
     ]
    }
   ],
   "source": [
    "\"\"\"Stemmization\"\"\"\n",
    "from nltk.stem.snowball import SnowballStemmer\n",
    "\n",
    "feature_names = vectorizer.get_feature_names()\n",
    "\n",
    "stemmer = SnowballStemmer(\"russian\") \n",
    "\n",
    "feature_names = [stemmer.stem(word) for word in feature_names]\n",
    "print(feature_names)"
   ]
  },
  {
   "cell_type": "code",
   "execution_count": 9,
   "metadata": {},
   "outputs": [],
   "source": [
    "\"\"\"word = tf-idf\"\"\"\n",
    "patient_history = []\n",
    "for day in matrix:\n",
    "    tfidf_scores = {}\n",
    "    for score, word in zip(day, feature_names):\n",
    "        tfidf_scores[word] = score\n",
    "    patient_history.append(tfidf_scores)\n",
    "\n",
    "\n",
    "            \n",
    "        "
   ]
  },
  {
   "cell_type": "code",
   "execution_count": null,
   "metadata": {},
   "outputs": [],
   "source": []
  },
  {
   "cell_type": "code",
   "execution_count": 11,
   "metadata": {},
   "outputs": [
    {
     "data": {
      "text/html": [
       "<div>\n",
       "<style scoped>\n",
       "    .dataframe tbody tr th:only-of-type {\n",
       "        vertical-align: middle;\n",
       "    }\n",
       "\n",
       "    .dataframe tbody tr th {\n",
       "        vertical-align: top;\n",
       "    }\n",
       "\n",
       "    .dataframe thead th {\n",
       "        text-align: right;\n",
       "    }\n",
       "</style>\n",
       "<table border=\"1\" class=\"dataframe\">\n",
       "  <thead>\n",
       "    <tr style=\"text-align: right;\">\n",
       "      <th></th>\n",
       "      <th>бисакод</th>\n",
       "      <th>бисакодила диурез</th>\n",
       "      <th>бисакодила диурез патолог</th>\n",
       "      <th>бол</th>\n",
       "      <th>боли слаб</th>\n",
       "      <th>боли слабость стул</th>\n",
       "      <th>волосист</th>\n",
       "      <th>волосистой част</th>\n",
       "      <th>волосистой части голов</th>\n",
       "      <th>выздоровлен</th>\n",
       "      <th>...</th>\n",
       "      <th>части головы эритем</th>\n",
       "      <th>части справ</th>\n",
       "      <th>части справа эритем</th>\n",
       "      <th>шелушен</th>\n",
       "      <th>шелушение кож</th>\n",
       "      <th>эритем</th>\n",
       "      <th>эритема неровн</th>\n",
       "      <th>эритема неровными кра</th>\n",
       "      <th>эритема угасл</th>\n",
       "      <th>эритема угасла отек</th>\n",
       "    </tr>\n",
       "  </thead>\n",
       "  <tbody>\n",
       "    <tr>\n",
       "      <td>0</td>\n",
       "      <td>0.205859</td>\n",
       "      <td>0.205859</td>\n",
       "      <td>0.205859</td>\n",
       "      <td>0.205859</td>\n",
       "      <td>0.205859</td>\n",
       "      <td>0.205859</td>\n",
       "      <td>0.000000</td>\n",
       "      <td>0.000000</td>\n",
       "      <td>0.000000</td>\n",
       "      <td>0.000000</td>\n",
       "      <td>...</td>\n",
       "      <td>0.000000</td>\n",
       "      <td>0.000000</td>\n",
       "      <td>0.000000</td>\n",
       "      <td>0.000000</td>\n",
       "      <td>0.000000</td>\n",
       "      <td>0.000000</td>\n",
       "      <td>0.000000</td>\n",
       "      <td>0.000000</td>\n",
       "      <td>0.000000</td>\n",
       "      <td>0.000000</td>\n",
       "    </tr>\n",
       "    <tr>\n",
       "      <td>1</td>\n",
       "      <td>0.205859</td>\n",
       "      <td>0.205859</td>\n",
       "      <td>0.205859</td>\n",
       "      <td>0.205859</td>\n",
       "      <td>0.205859</td>\n",
       "      <td>0.205859</td>\n",
       "      <td>0.000000</td>\n",
       "      <td>0.000000</td>\n",
       "      <td>0.000000</td>\n",
       "      <td>0.000000</td>\n",
       "      <td>...</td>\n",
       "      <td>0.000000</td>\n",
       "      <td>0.000000</td>\n",
       "      <td>0.000000</td>\n",
       "      <td>0.000000</td>\n",
       "      <td>0.000000</td>\n",
       "      <td>0.000000</td>\n",
       "      <td>0.000000</td>\n",
       "      <td>0.000000</td>\n",
       "      <td>0.000000</td>\n",
       "      <td>0.000000</td>\n",
       "    </tr>\n",
       "    <tr>\n",
       "      <td>2</td>\n",
       "      <td>0.205859</td>\n",
       "      <td>0.205859</td>\n",
       "      <td>0.205859</td>\n",
       "      <td>0.205859</td>\n",
       "      <td>0.205859</td>\n",
       "      <td>0.205859</td>\n",
       "      <td>0.000000</td>\n",
       "      <td>0.000000</td>\n",
       "      <td>0.000000</td>\n",
       "      <td>0.000000</td>\n",
       "      <td>...</td>\n",
       "      <td>0.000000</td>\n",
       "      <td>0.000000</td>\n",
       "      <td>0.000000</td>\n",
       "      <td>0.000000</td>\n",
       "      <td>0.000000</td>\n",
       "      <td>0.000000</td>\n",
       "      <td>0.000000</td>\n",
       "      <td>0.000000</td>\n",
       "      <td>0.000000</td>\n",
       "      <td>0.000000</td>\n",
       "    </tr>\n",
       "    <tr>\n",
       "      <td>3</td>\n",
       "      <td>0.000000</td>\n",
       "      <td>0.000000</td>\n",
       "      <td>0.000000</td>\n",
       "      <td>0.000000</td>\n",
       "      <td>0.000000</td>\n",
       "      <td>0.000000</td>\n",
       "      <td>0.073655</td>\n",
       "      <td>0.073655</td>\n",
       "      <td>0.073655</td>\n",
       "      <td>0.000000</td>\n",
       "      <td>...</td>\n",
       "      <td>0.000000</td>\n",
       "      <td>0.146304</td>\n",
       "      <td>0.146304</td>\n",
       "      <td>0.073655</td>\n",
       "      <td>0.073655</td>\n",
       "      <td>0.073655</td>\n",
       "      <td>0.146304</td>\n",
       "      <td>0.146304</td>\n",
       "      <td>0.000000</td>\n",
       "      <td>0.000000</td>\n",
       "    </tr>\n",
       "    <tr>\n",
       "      <td>4</td>\n",
       "      <td>0.000000</td>\n",
       "      <td>0.000000</td>\n",
       "      <td>0.000000</td>\n",
       "      <td>0.000000</td>\n",
       "      <td>0.000000</td>\n",
       "      <td>0.000000</td>\n",
       "      <td>0.174643</td>\n",
       "      <td>0.174643</td>\n",
       "      <td>0.174643</td>\n",
       "      <td>0.000000</td>\n",
       "      <td>...</td>\n",
       "      <td>0.191236</td>\n",
       "      <td>0.000000</td>\n",
       "      <td>0.000000</td>\n",
       "      <td>0.174643</td>\n",
       "      <td>0.174643</td>\n",
       "      <td>0.174643</td>\n",
       "      <td>0.000000</td>\n",
       "      <td>0.000000</td>\n",
       "      <td>0.191236</td>\n",
       "      <td>0.191236</td>\n",
       "    </tr>\n",
       "    <tr>\n",
       "      <td>5</td>\n",
       "      <td>0.000000</td>\n",
       "      <td>0.000000</td>\n",
       "      <td>0.000000</td>\n",
       "      <td>0.000000</td>\n",
       "      <td>0.000000</td>\n",
       "      <td>0.000000</td>\n",
       "      <td>0.174643</td>\n",
       "      <td>0.174643</td>\n",
       "      <td>0.174643</td>\n",
       "      <td>0.000000</td>\n",
       "      <td>...</td>\n",
       "      <td>0.191236</td>\n",
       "      <td>0.000000</td>\n",
       "      <td>0.000000</td>\n",
       "      <td>0.174643</td>\n",
       "      <td>0.174643</td>\n",
       "      <td>0.174643</td>\n",
       "      <td>0.000000</td>\n",
       "      <td>0.000000</td>\n",
       "      <td>0.191236</td>\n",
       "      <td>0.191236</td>\n",
       "    </tr>\n",
       "    <tr>\n",
       "      <td>6</td>\n",
       "      <td>0.000000</td>\n",
       "      <td>0.000000</td>\n",
       "      <td>0.000000</td>\n",
       "      <td>0.000000</td>\n",
       "      <td>0.000000</td>\n",
       "      <td>0.000000</td>\n",
       "      <td>0.174643</td>\n",
       "      <td>0.174643</td>\n",
       "      <td>0.174643</td>\n",
       "      <td>0.000000</td>\n",
       "      <td>...</td>\n",
       "      <td>0.191236</td>\n",
       "      <td>0.000000</td>\n",
       "      <td>0.000000</td>\n",
       "      <td>0.174643</td>\n",
       "      <td>0.174643</td>\n",
       "      <td>0.174643</td>\n",
       "      <td>0.000000</td>\n",
       "      <td>0.000000</td>\n",
       "      <td>0.191236</td>\n",
       "      <td>0.191236</td>\n",
       "    </tr>\n",
       "    <tr>\n",
       "      <td>7</td>\n",
       "      <td>0.000000</td>\n",
       "      <td>0.000000</td>\n",
       "      <td>0.000000</td>\n",
       "      <td>0.000000</td>\n",
       "      <td>0.000000</td>\n",
       "      <td>0.000000</td>\n",
       "      <td>0.174643</td>\n",
       "      <td>0.174643</td>\n",
       "      <td>0.174643</td>\n",
       "      <td>0.000000</td>\n",
       "      <td>...</td>\n",
       "      <td>0.191236</td>\n",
       "      <td>0.000000</td>\n",
       "      <td>0.000000</td>\n",
       "      <td>0.174643</td>\n",
       "      <td>0.174643</td>\n",
       "      <td>0.174643</td>\n",
       "      <td>0.000000</td>\n",
       "      <td>0.000000</td>\n",
       "      <td>0.191236</td>\n",
       "      <td>0.191236</td>\n",
       "    </tr>\n",
       "    <tr>\n",
       "      <td>8</td>\n",
       "      <td>0.000000</td>\n",
       "      <td>0.000000</td>\n",
       "      <td>0.000000</td>\n",
       "      <td>0.000000</td>\n",
       "      <td>0.000000</td>\n",
       "      <td>0.000000</td>\n",
       "      <td>0.174643</td>\n",
       "      <td>0.174643</td>\n",
       "      <td>0.174643</td>\n",
       "      <td>0.000000</td>\n",
       "      <td>...</td>\n",
       "      <td>0.191236</td>\n",
       "      <td>0.000000</td>\n",
       "      <td>0.000000</td>\n",
       "      <td>0.174643</td>\n",
       "      <td>0.174643</td>\n",
       "      <td>0.174643</td>\n",
       "      <td>0.000000</td>\n",
       "      <td>0.000000</td>\n",
       "      <td>0.191236</td>\n",
       "      <td>0.191236</td>\n",
       "    </tr>\n",
       "    <tr>\n",
       "      <td>9</td>\n",
       "      <td>0.000000</td>\n",
       "      <td>0.000000</td>\n",
       "      <td>0.000000</td>\n",
       "      <td>0.000000</td>\n",
       "      <td>0.000000</td>\n",
       "      <td>0.000000</td>\n",
       "      <td>0.174643</td>\n",
       "      <td>0.174643</td>\n",
       "      <td>0.174643</td>\n",
       "      <td>0.000000</td>\n",
       "      <td>...</td>\n",
       "      <td>0.191236</td>\n",
       "      <td>0.000000</td>\n",
       "      <td>0.000000</td>\n",
       "      <td>0.174643</td>\n",
       "      <td>0.174643</td>\n",
       "      <td>0.174643</td>\n",
       "      <td>0.000000</td>\n",
       "      <td>0.000000</td>\n",
       "      <td>0.191236</td>\n",
       "      <td>0.191236</td>\n",
       "    </tr>\n",
       "    <tr>\n",
       "      <td>10</td>\n",
       "      <td>0.000000</td>\n",
       "      <td>0.000000</td>\n",
       "      <td>0.000000</td>\n",
       "      <td>0.000000</td>\n",
       "      <td>0.000000</td>\n",
       "      <td>0.000000</td>\n",
       "      <td>0.000000</td>\n",
       "      <td>0.000000</td>\n",
       "      <td>0.000000</td>\n",
       "      <td>0.288675</td>\n",
       "      <td>...</td>\n",
       "      <td>0.000000</td>\n",
       "      <td>0.000000</td>\n",
       "      <td>0.000000</td>\n",
       "      <td>0.000000</td>\n",
       "      <td>0.000000</td>\n",
       "      <td>0.000000</td>\n",
       "      <td>0.000000</td>\n",
       "      <td>0.000000</td>\n",
       "      <td>0.000000</td>\n",
       "      <td>0.000000</td>\n",
       "    </tr>\n",
       "  </tbody>\n",
       "</table>\n",
       "<p>11 rows × 105 columns</p>\n",
       "</div>"
      ],
      "text/plain": [
       "     бисакод  бисакодила диурез  бисакодила диурез патолог       бол  \\\n",
       "0   0.205859           0.205859                   0.205859  0.205859   \n",
       "1   0.205859           0.205859                   0.205859  0.205859   \n",
       "2   0.205859           0.205859                   0.205859  0.205859   \n",
       "3   0.000000           0.000000                   0.000000  0.000000   \n",
       "4   0.000000           0.000000                   0.000000  0.000000   \n",
       "5   0.000000           0.000000                   0.000000  0.000000   \n",
       "6   0.000000           0.000000                   0.000000  0.000000   \n",
       "7   0.000000           0.000000                   0.000000  0.000000   \n",
       "8   0.000000           0.000000                   0.000000  0.000000   \n",
       "9   0.000000           0.000000                   0.000000  0.000000   \n",
       "10  0.000000           0.000000                   0.000000  0.000000   \n",
       "\n",
       "    боли слаб  боли слабость стул  волосист  волосистой част  \\\n",
       "0    0.205859            0.205859  0.000000         0.000000   \n",
       "1    0.205859            0.205859  0.000000         0.000000   \n",
       "2    0.205859            0.205859  0.000000         0.000000   \n",
       "3    0.000000            0.000000  0.073655         0.073655   \n",
       "4    0.000000            0.000000  0.174643         0.174643   \n",
       "5    0.000000            0.000000  0.174643         0.174643   \n",
       "6    0.000000            0.000000  0.174643         0.174643   \n",
       "7    0.000000            0.000000  0.174643         0.174643   \n",
       "8    0.000000            0.000000  0.174643         0.174643   \n",
       "9    0.000000            0.000000  0.174643         0.174643   \n",
       "10   0.000000            0.000000  0.000000         0.000000   \n",
       "\n",
       "    волосистой части голов  выздоровлен  ...  части головы эритем  \\\n",
       "0                 0.000000     0.000000  ...             0.000000   \n",
       "1                 0.000000     0.000000  ...             0.000000   \n",
       "2                 0.000000     0.000000  ...             0.000000   \n",
       "3                 0.073655     0.000000  ...             0.000000   \n",
       "4                 0.174643     0.000000  ...             0.191236   \n",
       "5                 0.174643     0.000000  ...             0.191236   \n",
       "6                 0.174643     0.000000  ...             0.191236   \n",
       "7                 0.174643     0.000000  ...             0.191236   \n",
       "8                 0.174643     0.000000  ...             0.191236   \n",
       "9                 0.174643     0.000000  ...             0.191236   \n",
       "10                0.000000     0.288675  ...             0.000000   \n",
       "\n",
       "    части справ  части справа эритем   шелушен  шелушение кож    эритем  \\\n",
       "0      0.000000             0.000000  0.000000       0.000000  0.000000   \n",
       "1      0.000000             0.000000  0.000000       0.000000  0.000000   \n",
       "2      0.000000             0.000000  0.000000       0.000000  0.000000   \n",
       "3      0.146304             0.146304  0.073655       0.073655  0.073655   \n",
       "4      0.000000             0.000000  0.174643       0.174643  0.174643   \n",
       "5      0.000000             0.000000  0.174643       0.174643  0.174643   \n",
       "6      0.000000             0.000000  0.174643       0.174643  0.174643   \n",
       "7      0.000000             0.000000  0.174643       0.174643  0.174643   \n",
       "8      0.000000             0.000000  0.174643       0.174643  0.174643   \n",
       "9      0.000000             0.000000  0.174643       0.174643  0.174643   \n",
       "10     0.000000             0.000000  0.000000       0.000000  0.000000   \n",
       "\n",
       "    эритема неровн  эритема неровными кра  эритема угасл  эритема угасла отек  \n",
       "0         0.000000               0.000000       0.000000             0.000000  \n",
       "1         0.000000               0.000000       0.000000             0.000000  \n",
       "2         0.000000               0.000000       0.000000             0.000000  \n",
       "3         0.146304               0.146304       0.000000             0.000000  \n",
       "4         0.000000               0.000000       0.191236             0.191236  \n",
       "5         0.000000               0.000000       0.191236             0.191236  \n",
       "6         0.000000               0.000000       0.191236             0.191236  \n",
       "7         0.000000               0.000000       0.191236             0.191236  \n",
       "8         0.000000               0.000000       0.191236             0.191236  \n",
       "9         0.000000               0.000000       0.191236             0.191236  \n",
       "10        0.000000               0.000000       0.000000             0.000000  \n",
       "\n",
       "[11 rows x 105 columns]"
      ]
     },
     "execution_count": 11,
     "metadata": {},
     "output_type": "execute_result"
    }
   ],
   "source": [
    "\"\"\"Pandas dataframe\"\"\"\n",
    "df = pd.DataFrame(data=patient_history)\n",
    "df"
   ]
  },
  {
   "cell_type": "code",
   "execution_count": 12,
   "metadata": {},
   "outputs": [
    {
     "data": {
      "text/plain": [
       "(11, 105)"
      ]
     },
     "execution_count": 12,
     "metadata": {},
     "output_type": "execute_result"
    }
   ],
   "source": [
    "from sklearn.model_selection import train_test_split\n",
    "from sklearn.preprocessing import StandardScaler\n",
    "X  = df.iloc[:,:].values\n",
    "X.shape"
   ]
  },
  {
   "cell_type": "code",
   "execution_count": 13,
   "metadata": {},
   "outputs": [],
   "source": [
    "cov_mat = np.cov(X.T)\n",
    "eigen_vals, eigen_vecs = np.linalg.eig(cov_mat)\n",
    "#eigen_vals"
   ]
  },
  {
   "cell_type": "code",
   "execution_count": 16,
   "metadata": {},
   "outputs": [
    {
     "name": "stderr",
     "output_type": "stream",
     "text": [
      "c:\\users\\roman\\appdata\\local\\programs\\python\\python36\\lib\\site-packages\\matplotlib\\transforms.py:827: ComplexWarning: Casting complex values to real discards the imaginary part\n",
      "  points = np.array(args, dtype=float).reshape(2, 2)\n",
      "c:\\users\\roman\\appdata\\local\\programs\\python\\python36\\lib\\site-packages\\numpy\\core\\numeric.py:501: ComplexWarning: Casting complex values to real discards the imaginary part\n",
      "  return array(a, dtype, copy=False, order=order)\n"
     ]
    },
    {
     "data": {
      "image/png": "[encoded data removed]",
      "text/plain": [
       "<Figure size 2304x864 with 1 Axes>"
      ]
     },
     "metadata": {
      "needs_background": "light"
     },
     "output_type": "display_data"
    }
   ],
   "source": [
    "import matplotlib.pyplot as plt\n",
    "\n",
    "tot = sum(eigen_vals)\n",
    "var_exp = [(i / tot) for i in\n",
    "          sorted(eigen_vals, reverse=True)]\n",
    "cum_var_exp = np.cumsum(var_exp)\n",
    "\n",
    "plt.figure(figsize=(32,12))\n",
    "plt.bar(range(1,X.shape[1]+1), var_exp, alpha=0.5, align='center', label='индивидуальная объясненная дисперсия')\n",
    "plt.step(range(1,X.shape[1]+1), cum_var_exp, where='mid', label='кумулятивая объясненная дисперсия')\n",
    "plt.ylabel('доля объясненной дисперсии')\n",
    "plt.xlabel('главные компоненты')\n",
    "plt.legend(loc='best')\n",
    "plt.show()"
   ]
  },
  {
   "cell_type": "code",
   "execution_count": 17,
   "metadata": {},
   "outputs": [
    {
     "data": {
      "text/plain": [
       "array([0.63018547, 0.85209853, 1.        , 1.        , 1.        ,\n",
       "       1.        , 1.        , 1.        , 1.        , 1.        ,\n",
       "       1.        ])"
      ]
     },
     "execution_count": 17,
     "metadata": {},
     "output_type": "execute_result"
    }
   ],
   "source": [
    "from sklearn.decomposition import PCA\n",
    "\n",
    "pca = PCA(n_components=None)\n",
    "X_pca = pca.fit_transform(X)\n",
    "cum_var_exp = np.cumsum(pca.explained_variance_ratio_)\n",
    "cum_var_exp "
   ]
  },
  {
   "cell_type": "code",
   "execution_count": 18,
   "metadata": {},
   "outputs": [],
   "source": [
    "\n",
    "# plt.bar(range(0,X.shape[0]), pca.explained_variance_ratio_, alpha=0.5, align='center', label='индивидуальная объясненная дисперсия')\n",
    "# plt.step(range(0,X.shape[1]), cum_var_exp, where='mid', label='кумулятивая объясненная дисперсия')\n",
    "# plt.ylabel('доля объясненной дисперсии')\n",
    "# plt.xlabel('главные компоненты')\n",
    "# plt.legend(loc='best')\n",
    "# plt.show()"
   ]
  },
  {
   "cell_type": "code",
   "execution_count": 19,
   "metadata": {},
   "outputs": [
    {
     "name": "stdout",
     "output_type": "stream",
     "text": [
      "бисакод\n",
      "бисакодила диурез\n",
      "бисакодила диурез патолог\n",
      "бол\n",
      "боли слаб\n",
      "боли слабость стул\n",
      "волосист\n",
      "волосистой част\n",
      "волосистой части голов\n",
      "выздоровлен\n",
      "выписыва\n"
     ]
    },
    {
     "ename": "IndexError",
     "evalue": "index 11 is out of bounds for axis 0 with size 11",
     "output_type": "error",
     "traceback": [
      "\u001b[1;31m---------------------------------------------------------------------------\u001b[0m",
      "\u001b[1;31mIndexError\u001b[0m                                Traceback (most recent call last)",
      "\u001b[1;32m<ipython-input-19-ea9951d0028a>\u001b[0m in \u001b[0;36m<module>\u001b[1;34m\u001b[0m\n\u001b[0;32m      6\u001b[0m \u001b[1;33m\u001b[0m\u001b[0m\n\u001b[0;32m      7\u001b[0m \u001b[1;32mfor\u001b[0m \u001b[0mi\u001b[0m\u001b[1;33m,\u001b[0m \u001b[0mword\u001b[0m \u001b[1;32min\u001b[0m \u001b[0menumerate\u001b[0m\u001b[1;33m(\u001b[0m\u001b[0mfeature_names\u001b[0m\u001b[1;33m)\u001b[0m\u001b[1;33m:\u001b[0m\u001b[1;33m\u001b[0m\u001b[0m\n\u001b[1;32m----> 8\u001b[1;33m     \u001b[0mplt\u001b[0m\u001b[1;33m.\u001b[0m\u001b[0mannotate\u001b[0m\u001b[1;33m(\u001b[0m\u001b[0mword\u001b[0m\u001b[1;33m,\u001b[0m \u001b[0mxy\u001b[0m\u001b[1;33m=\u001b[0m\u001b[1;33m(\u001b[0m\u001b[0mresult\u001b[0m\u001b[1;33m[\u001b[0m\u001b[0mi\u001b[0m\u001b[1;33m,\u001b[0m \u001b[1;36m0\u001b[0m\u001b[1;33m]\u001b[0m\u001b[1;33m,\u001b[0m \u001b[0mresult\u001b[0m\u001b[1;33m[\u001b[0m\u001b[0mi\u001b[0m\u001b[1;33m,\u001b[0m \u001b[1;36m1\u001b[0m\u001b[1;33m]\u001b[0m\u001b[1;33m)\u001b[0m\u001b[1;33m)\u001b[0m\u001b[1;33m\u001b[0m\u001b[0m\n\u001b[0m\u001b[0;32m      9\u001b[0m     \u001b[0mprint\u001b[0m\u001b[1;33m(\u001b[0m\u001b[0mword\u001b[0m\u001b[1;33m)\u001b[0m\u001b[1;33m\u001b[0m\u001b[0m\n\u001b[0;32m     10\u001b[0m \u001b[0mplt\u001b[0m\u001b[1;33m.\u001b[0m\u001b[0mshow\u001b[0m\u001b[1;33m(\u001b[0m\u001b[1;33m)\u001b[0m\u001b[1;33m\u001b[0m\u001b[0m\n",
      "\u001b[1;31mIndexError\u001b[0m: index 11 is out of bounds for axis 0 with size 11"
     ]
    },
    {
     "data": {
      "image/png": "[encoded data removed]",
      "text/plain": [
       "<Figure size 432x288 with 1 Axes>"
      ]
     },
     "metadata": {
      "needs_background": "light"
     },
     "output_type": "display_data"
    }
   ],
   "source": [
    "pca = PCA(n_components=2)\n",
    "result = pca.fit_transform(X)\n",
    "# create a scatter plot of the projection\n",
    "\n",
    "plt.scatter(result[:, 0], result[:, 1])\n",
    "\n",
    "for i, word in enumerate(feature_names):\n",
    "    plt.annotate(word, xy=(result[i, 0], result[i, 1]))\n",
    "    print(word)\n",
    "plt.show()"
   ]
  },
  {
   "cell_type": "markdown",
   "metadata": {},
   "source": []
  },
  {
   "cell_type": "code",
   "execution_count": null,
   "metadata": {},
   "outputs": [],
   "source": []
  },
  {
   "cell_type": "code",
   "execution_count": null,
   "metadata": {},
   "outputs": [],
   "source": []
  },
  {
   "cell_type": "code",
   "execution_count": null,
   "metadata": {},
   "outputs": [],
   "source": []
  }
 ],
 "metadata": {
  "kernelspec": {
   "display_name": "Python 3",
   "language": "python",
   "name": "python3"
  },
  "language_info": {
   "codemirror_mode": {
    "name": "ipython",
    "version": 3
   },
   "file_extension": ".py",
   "mimetype": "text/x-python",
   "name": "python",
   "nbconvert_exporter": "python",
   "pygments_lexer": "ipython3",
   "version": "3.6.4"
  }
 },
 "nbformat": 4,
 "nbformat_minor": 4
}
