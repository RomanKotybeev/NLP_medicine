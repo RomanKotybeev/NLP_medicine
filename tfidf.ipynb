{
 "cells": [
  {
   "cell_type": "markdown",
   "metadata": {},
   "source": [
    "# Tf-idf"
   ]
  },
  {
   "cell_type": "code",
   "execution_count": 1,
   "metadata": {},
   "outputs": [],
   "source": [
    "import re\n",
    "import pathlib\n",
    "import numpy as np"
   ]
  },
  {
   "cell_type": "code",
   "execution_count": 2,
   "metadata": {},
   "outputs": [],
   "source": [
    "pathfile = r'E:\\STUDY\\8PM9I\\UIRS'\n",
    "dataset_file = pathlib.Path(pathfile).joinpath('temp')"
   ]
  },
  {
   "cell_type": "code",
   "execution_count": 3,
   "metadata": {},
   "outputs": [],
   "source": [
    "class Patient:\n",
    "    \"\"\"\n",
    "    In treatment_days each day is an element.\n",
    "    vectorizer is TfidfVectorizer\n",
    "    tfidf_scores contains dict of bags of words(bows) for an each day\n",
    "    keybows conatins the highest num_keybows tfidf_scores \n",
    "    \"\"\"\n",
    "    num_keybows = 5\n",
    "    \n",
    "    def __init__(self):\n",
    "        self.treatment_days = []\n",
    "        self.vectorizer = None\n",
    "        self.matrix = None\n",
    "        self.tfidf_scores = []\n",
    "        self.keybows = []\n",
    "        self.num_days = []\n",
    "    def __len__(self):\n",
    "        return len(self.treatment_days)"
   ]
  },
  {
   "cell_type": "code",
   "execution_count": 4,
   "metadata": {},
   "outputs": [
    {
     "data": {
      "text/plain": [
       "[<__main__.Patient at 0x2bfe69f0320>,\n",
       " <__main__.Patient at 0x2bfe69f0208>,\n",
       " <__main__.Patient at 0x2bfe69f00b8>]"
      ]
     },
     "execution_count": 4,
     "metadata": {},
     "output_type": "execute_result"
    }
   ],
   "source": [
    "docs = (file for file in dataset_file.iterdir() if file.suffix == '.txt')\n",
    "\n",
    "date_pattern = re.compile(r'\\d\\d[.]\\d\\d[.]\\d\\d\\d\\d(.)')\n",
    "\n",
    "patients = []\n",
    "for patientfile in docs:\n",
    "    with open(patientfile, 'rt') as pf: \n",
    "        patient = Patient()\n",
    "        for i, day in enumerate(pf):\n",
    "            day = re.sub(date_pattern, '', day)\n",
    "            day = re.sub('\\n', '', day)\n",
    "            day = re.sub(r'[0-9]+', '', day)\n",
    "            patient.treatment_days.append(day)\n",
    "            patient.num_days.append(i+1)\n",
    "    patients.append(patient)\n",
    "patients"
   ]
  },
  {
   "cell_type": "code",
   "execution_count": 5,
   "metadata": {},
   "outputs": [
    {
     "data": {
      "text/plain": [
       "['Жалобы: На распирающую боль, жжение, зуд в области левой голени, общее недомогание, слабость, разбитость, повышение температуры до ,. Локальный статус: на левой голени эритема с множеством геморрагий, границы, четкие, горячая на ощупь, отек мягких тканей умеренно выражен, тестоватой консистенции, болезненность по периферии преобладает.',\n",
       " 'Жалобы: На умеренную боль ',\n",
       " 'Жалобы: Чувствует себя лучше, температура нормальная, местные явления начали регрессировать, меньше отек и гиперемия. Локальный статус: На левой голени эритема, болезненность незначительная. Паховые лимфатические узлы слева слегка слегка болезненны.',\n",
       " 'Локальный статус: Паховые лимфатические узлы слева слегка безболезненны.',\n",
       " 'Жалобы: Местные явления существенно меньше. Локальный статус: На левой голени эритема стала значительно бледнее.',\n",
       " 'Жалобы: Местные явления существенно меньше. Локальный статус: На левой голени эритема стала значительно бледнее.',\n",
       " 'Локальный статус: На голени бледнеющая гиперемия, отцветающие геморрагии, отек незначительный, боль практически прошла.',\n",
       " 'Локальный статус: Состояние удовлетворительное. Местные явления продолжают регрессировать.',\n",
       " 'Локальный статус: Краснота прошла, отек также шелушение, пигментация на коже голени.',\n",
       " 'Локальный статус: Местные явления незначительные, рассасывающиеся геморрагии.',\n",
       " 'Локальный статус: Местные явления незначительные, рассасывающиеся геморрагии.',\n",
       " 'Локальный статус: Местные явления купированы, на голени остается шелушение и пигментация.']"
      ]
     },
     "execution_count": 5,
     "metadata": {},
     "output_type": "execute_result"
    }
   ],
   "source": [
    "\"\"\"Заполнить незаолненные дни предыдущим днем (считаем, что состояние пациента не изменилось)\"\"\"\n",
    "for patient in patients:\n",
    "    for i, day in enumerate(patient.treatment_days):\n",
    "        if day in [' ', '']:\n",
    "            patient.treatment_days[i] = patient.treatment_days[i-1]\n",
    "    \n",
    "patients[0].treatment_days"
   ]
  },
  {
   "cell_type": "code",
   "execution_count": 6,
   "metadata": {},
   "outputs": [
    {
     "data": {
      "text/plain": [
       "['жалоба: повышение температура до ,, слабость, головной боль, разбитость.',\n",
       " 'жалоба: повышение температура до ,, слабость, головной боль, разбитость.',\n",
       " 'жалоба: боль в правый нижний конечность, распирать характер, усиливаться в вертикальный положении.',\n",
       " 'жалоба: боль в правый нижний конечность, распирать характер, усиливаться в вертикальный положении.',\n",
       " 'жалоба: боль в правый нижний конечность, распирать характер, усиливаться в вертикальный положении.',\n",
       " 'локальный статус: в область правый голень и коленный сустав иметься угасать эритема.',\n",
       " 'локальный статус: в область правый голень и коленный сустав сохраняться угасать эритема, граница размытый, появиться небольшой шелушение кожи. участок флюктуация, размягчение нет.',\n",
       " 'жалоба: не предъявлять локальный статус: в область правый голень и коленный сустав пигментация и шелушение кожи.',\n",
       " 'жалоба: не предъявлять локальный статус: в область правый голень и коленный сустав пигментация и шелушение кожи.',\n",
       " 'жалоба: не предъявлять локальный статус: в область правый голень и коленный сустав пигментация и шелушение кожи.',\n",
       " 'жалоба: не предъявлять локальный статус: в область правый голень и коленный сустав пигментация и шелушение кожи.',\n",
       " 'жалоба: не предъявлять локальный статус: в область правый голень и коленный сустав пигментация и шелушение кожи.',\n",
       " 'жалоба: не предъявлять локальный статус: в область правый голень и коленный сустав пигментация и шелушение кожи.',\n",
       " 'жалоба: не предъявлять локальный статус: в область правый голень и коленный сустав пигментация и шелушение кожи.']"
      ]
     },
     "execution_count": 6,
     "metadata": {},
     "output_type": "execute_result"
    }
   ],
   "source": [
    "import pymorphy2\n",
    "morph = pymorphy2.MorphAnalyzer()\n",
    "\n",
    "for patient in patients:\n",
    "    for i, day in enumerate(patient.treatment_days):\n",
    "        words = day.split()\n",
    "        for word in words:    \n",
    "            p = morph.parse(word.strip(':,-'))[0]\n",
    "            day = day.replace(word.strip(':,-'), p.normal_form)\n",
    "        patient.treatment_days[i] = day\n",
    "patients[1].treatment_days"
   ]
  },
  {
   "cell_type": "code",
   "execution_count": 7,
   "metadata": {},
   "outputs": [],
   "source": [
    "from nltk.corpus import stopwords\n",
    "\n",
    "\n",
    "additional_stop_words = ['дата','время','осмотра','номер','пациента', 'локальный','статус','осмотр']\n",
    "russian_stopwords = stopwords.words(\"russian\")\n",
    "russian_stopwords += additional_stop_words\n",
    "#print(russian_stopwords)"
   ]
  },
  {
   "cell_type": "code",
   "execution_count": 8,
   "metadata": {},
   "outputs": [
    {
     "data": {
      "text/plain": [
       "[{'жалоба': 0.1070961986806036,\n",
       "  'повышение': 0.24447613932702925,\n",
       "  'температура': 0.24447613932702925,\n",
       "  'слабость': 0.24447613932702925,\n",
       "  'головной': 0.24447613932702925,\n",
       "  'боль': 0.17953573745686585,\n",
       "  'разбитость': 0.24447613932702925,\n",
       "  'жалоба повышение': 0.24447613932702925,\n",
       "  'повышение температура': 0.24447613932702925,\n",
       "  'температура слабость': 0.24447613932702925,\n",
       "  'слабость головной': 0.24447613932702925,\n",
       "  'головной боль': 0.24447613932702925,\n",
       "  'боль разбитость': 0.24447613932702925,\n",
       "  'жалоба повышение температура': 0.24447613932702925,\n",
       "  'повышение температура слабость': 0.24447613932702925,\n",
       "  'температура слабость головной': 0.24447613932702925,\n",
       "  'слабость головной боль': 0.24447613932702925,\n",
       "  'головной боль разбитость': 0.24447613932702925},\n",
       " {'жалоба': 0.1070961986806036,\n",
       "  'повышение': 0.24447613932702925,\n",
       "  'температура': 0.24447613932702925,\n",
       "  'слабость': 0.24447613932702925,\n",
       "  'головной': 0.24447613932702925,\n",
       "  'боль': 0.17953573745686585,\n",
       "  'разбитость': 0.24447613932702925,\n",
       "  'жалоба повышение': 0.24447613932702925,\n",
       "  'повышение температура': 0.24447613932702925,\n",
       "  'температура слабость': 0.24447613932702925,\n",
       "  'слабость головной': 0.24447613932702925,\n",
       "  'головной боль': 0.24447613932702925,\n",
       "  'боль разбитость': 0.24447613932702925,\n",
       "  'жалоба повышение температура': 0.24447613932702925,\n",
       "  'повышение температура слабость': 0.24447613932702925,\n",
       "  'температура слабость головной': 0.24447613932702925,\n",
       "  'слабость головной боль': 0.24447613932702925,\n",
       "  'головной боль разбитость': 0.24447613932702925},\n",
       " {'жалоба': 0.09814330210268246,\n",
       "  'боль': 0.16452712922151833,\n",
       "  'правый': 0.09814330210268246,\n",
       "  'нижний': 0.1993391799854886,\n",
       "  'конечность': 0.1993391799854886,\n",
       "  'распирать': 0.1993391799854886,\n",
       "  'характер': 0.1993391799854886,\n",
       "  'усиливаться': 0.1993391799854886,\n",
       "  'вертикальный': 0.1993391799854886,\n",
       "  'положении': 0.1993391799854886,\n",
       "  'жалоба боль': 0.1993391799854886,\n",
       "  'боль правый': 0.1993391799854886,\n",
       "  'правый нижний': 0.1993391799854886,\n",
       "  'нижний конечность': 0.1993391799854886,\n",
       "  'конечность распирать': 0.1993391799854886,\n",
       "  'распирать характер': 0.1993391799854886,\n",
       "  'характер усиливаться': 0.1993391799854886,\n",
       "  'усиливаться вертикальный': 0.1993391799854886,\n",
       "  'вертикальный положении': 0.1993391799854886,\n",
       "  'жалоба боль правый': 0.1993391799854886,\n",
       "  'боль правый нижний': 0.1993391799854886,\n",
       "  'правый нижний конечность': 0.1993391799854886,\n",
       "  'нижний конечность распирать': 0.1993391799854886,\n",
       "  'конечность распирать характер': 0.1993391799854886,\n",
       "  'распирать характер усиливаться': 0.1993391799854886,\n",
       "  'характер усиливаться вертикальный': 0.1993391799854886,\n",
       "  'усиливаться вертикальный положении': 0.1993391799854886},\n",
       " {'жалоба': 0.09814330210268246,\n",
       "  'боль': 0.16452712922151833,\n",
       "  'правый': 0.09814330210268246,\n",
       "  'нижний': 0.1993391799854886,\n",
       "  'конечность': 0.1993391799854886,\n",
       "  'распирать': 0.1993391799854886,\n",
       "  'характер': 0.1993391799854886,\n",
       "  'усиливаться': 0.1993391799854886,\n",
       "  'вертикальный': 0.1993391799854886,\n",
       "  'положении': 0.1993391799854886,\n",
       "  'жалоба боль': 0.1993391799854886,\n",
       "  'боль правый': 0.1993391799854886,\n",
       "  'правый нижний': 0.1993391799854886,\n",
       "  'нижний конечность': 0.1993391799854886,\n",
       "  'конечность распирать': 0.1993391799854886,\n",
       "  'распирать характер': 0.1993391799854886,\n",
       "  'характер усиливаться': 0.1993391799854886,\n",
       "  'усиливаться вертикальный': 0.1993391799854886,\n",
       "  'вертикальный положении': 0.1993391799854886,\n",
       "  'жалоба боль правый': 0.1993391799854886,\n",
       "  'боль правый нижний': 0.1993391799854886,\n",
       "  'правый нижний конечность': 0.1993391799854886,\n",
       "  'нижний конечность распирать': 0.1993391799854886,\n",
       "  'конечность распирать характер': 0.1993391799854886,\n",
       "  'распирать характер усиливаться': 0.1993391799854886,\n",
       "  'характер усиливаться вертикальный': 0.1993391799854886,\n",
       "  'усиливаться вертикальный положении': 0.1993391799854886},\n",
       " {'жалоба': 0.09814330210268246,\n",
       "  'боль': 0.16452712922151833,\n",
       "  'правый': 0.09814330210268246,\n",
       "  'нижний': 0.1993391799854886,\n",
       "  'конечность': 0.1993391799854886,\n",
       "  'распирать': 0.1993391799854886,\n",
       "  'характер': 0.1993391799854886,\n",
       "  'усиливаться': 0.1993391799854886,\n",
       "  'вертикальный': 0.1993391799854886,\n",
       "  'положении': 0.1993391799854886,\n",
       "  'жалоба боль': 0.1993391799854886,\n",
       "  'боль правый': 0.1993391799854886,\n",
       "  'правый нижний': 0.1993391799854886,\n",
       "  'нижний конечность': 0.1993391799854886,\n",
       "  'конечность распирать': 0.1993391799854886,\n",
       "  'распирать характер': 0.1993391799854886,\n",
       "  'характер усиливаться': 0.1993391799854886,\n",
       "  'усиливаться вертикальный': 0.1993391799854886,\n",
       "  'вертикальный положении': 0.1993391799854886,\n",
       "  'жалоба боль правый': 0.1993391799854886,\n",
       "  'боль правый нижний': 0.1993391799854886,\n",
       "  'правый нижний конечность': 0.1993391799854886,\n",
       "  'нижний конечность распирать': 0.1993391799854886,\n",
       "  'конечность распирать характер': 0.1993391799854886,\n",
       "  'распирать характер усиливаться': 0.1993391799854886,\n",
       "  'характер усиливаться вертикальный': 0.1993391799854886,\n",
       "  'усиливаться вертикальный положении': 0.1993391799854886},\n",
       " {'правый': 0.11547022586270546,\n",
       "  'область': 0.14197292774146195,\n",
       "  'голень': 0.14197292774146195,\n",
       "  'коленный': 0.14197292774146195,\n",
       "  'сустав': 0.14197292774146195,\n",
       "  'иметься': 0.30455014942286335,\n",
       "  'угасать': 0.2635921290756985,\n",
       "  'эритема': 0.2635921290756985,\n",
       "  'область правый': 0.14197292774146195,\n",
       "  'правый голень': 0.14197292774146195,\n",
       "  'голень коленный': 0.14197292774146195,\n",
       "  'коленный сустав': 0.14197292774146195,\n",
       "  'сустав иметься': 0.30455014942286335,\n",
       "  'иметься угасать': 0.30455014942286335,\n",
       "  'угасать эритема': 0.2635921290756985,\n",
       "  'область правый голень': 0.14197292774146195,\n",
       "  'правый голень коленный': 0.14197292774146195,\n",
       "  'голень коленный сустав': 0.14197292774146195,\n",
       "  'коленный сустав иметься': 0.30455014942286335,\n",
       "  'сустав иметься угасать': 0.30455014942286335,\n",
       "  'иметься угасать эритема': 0.30455014942286335},\n",
       " {'правый': 0.06360384996781496,\n",
       "  'область': 0.07820219219364923,\n",
       "  'голень': 0.07820219219364923,\n",
       "  'коленный': 0.07820219219364923,\n",
       "  'сустав': 0.07820219219364923,\n",
       "  'угасать': 0.14519304959498264,\n",
       "  'эритема': 0.14519304959498264,\n",
       "  'область правый': 0.07820219219364923,\n",
       "  'правый голень': 0.07820219219364923,\n",
       "  'голень коленный': 0.07820219219364923,\n",
       "  'коленный сустав': 0.07820219219364923,\n",
       "  'угасать эритема': 0.14519304959498264,\n",
       "  'область правый голень': 0.07820219219364923,\n",
       "  'правый голень коленный': 0.07820219219364923,\n",
       "  'голень коленный сустав': 0.07820219219364923,\n",
       "  'сохраняться': 0.1677537379601136,\n",
       "  'граница': 0.1677537379601136,\n",
       "  'размытый': 0.1677537379601136,\n",
       "  'появиться': 0.1677537379601136,\n",
       "  'небольшой': 0.1677537379601136,\n",
       "  'шелушение': 0.08406460972899883,\n",
       "  'кожи': 0.08406460972899883,\n",
       "  'участок': 0.1677537379601136,\n",
       "  'флюктуация': 0.1677537379601136,\n",
       "  'размягчение': 0.1677537379601136,\n",
       "  'сустав сохраняться': 0.1677537379601136,\n",
       "  'сохраняться угасать': 0.1677537379601136,\n",
       "  'эритема граница': 0.1677537379601136,\n",
       "  'граница размытый': 0.1677537379601136,\n",
       "  'размытый появиться': 0.1677537379601136,\n",
       "  'появиться небольшой': 0.1677537379601136,\n",
       "  'небольшой шелушение': 0.1677537379601136,\n",
       "  'шелушение кожи': 0.08406460972899883,\n",
       "  'кожи участок': 0.1677537379601136,\n",
       "  'участок флюктуация': 0.1677537379601136,\n",
       "  'флюктуация размягчение': 0.1677537379601136,\n",
       "  'коленный сустав сохраняться': 0.1677537379601136,\n",
       "  'сустав сохраняться угасать': 0.1677537379601136,\n",
       "  'сохраняться угасать эритема': 0.1677537379601136,\n",
       "  'угасать эритема граница': 0.1677537379601136,\n",
       "  'эритема граница размытый': 0.1677537379601136,\n",
       "  'граница размытый появиться': 0.1677537379601136,\n",
       "  'размытый появиться небольшой': 0.1677537379601136,\n",
       "  'появиться небольшой шелушение': 0.1677537379601136,\n",
       "  'небольшой шелушение кожи': 0.1677537379601136,\n",
       "  'шелушение кожи участок': 0.1677537379601136,\n",
       "  'кожи участок флюктуация': 0.1677537379601136,\n",
       "  'участок флюктуация размягчение': 0.1677537379601136},\n",
       " {'жалоба': 0.1471258491420383,\n",
       "  'правый': 0.1471258491420383,\n",
       "  'область': 0.18089414299734383,\n",
       "  'голень': 0.18089414299734383,\n",
       "  'коленный': 0.18089414299734383,\n",
       "  'сустав': 0.18089414299734383,\n",
       "  'область правый': 0.18089414299734383,\n",
       "  'правый голень': 0.18089414299734383,\n",
       "  'голень коленный': 0.18089414299734383,\n",
       "  'коленный сустав': 0.18089414299734383,\n",
       "  'область правый голень': 0.18089414299734383,\n",
       "  'правый голень коленный': 0.18089414299734383,\n",
       "  'голень коленный сустав': 0.18089414299734383,\n",
       "  'шелушение': 0.1944548497525157,\n",
       "  'кожи': 0.1944548497525157,\n",
       "  'шелушение кожи': 0.1944548497525157,\n",
       "  'предъявлять': 0.2096144301446369,\n",
       "  'пигментация': 0.2096144301446369,\n",
       "  'жалоба предъявлять': 0.2096144301446369,\n",
       "  'предъявлять область': 0.2096144301446369,\n",
       "  'сустав пигментация': 0.2096144301446369,\n",
       "  'пигментация шелушение': 0.2096144301446369,\n",
       "  'жалоба предъявлять область': 0.2096144301446369,\n",
       "  'предъявлять область правый': 0.2096144301446369,\n",
       "  'коленный сустав пигментация': 0.2096144301446369,\n",
       "  'сустав пигментация шелушение': 0.2096144301446369,\n",
       "  'пигментация шелушение кожи': 0.2096144301446369},\n",
       " {'жалоба': 0.1471258491420383,\n",
       "  'правый': 0.1471258491420383,\n",
       "  'область': 0.18089414299734383,\n",
       "  'голень': 0.18089414299734383,\n",
       "  'коленный': 0.18089414299734383,\n",
       "  'сустав': 0.18089414299734383,\n",
       "  'область правый': 0.18089414299734383,\n",
       "  'правый голень': 0.18089414299734383,\n",
       "  'голень коленный': 0.18089414299734383,\n",
       "  'коленный сустав': 0.18089414299734383,\n",
       "  'область правый голень': 0.18089414299734383,\n",
       "  'правый голень коленный': 0.18089414299734383,\n",
       "  'голень коленный сустав': 0.18089414299734383,\n",
       "  'шелушение': 0.1944548497525157,\n",
       "  'кожи': 0.1944548497525157,\n",
       "  'шелушение кожи': 0.1944548497525157,\n",
       "  'предъявлять': 0.2096144301446369,\n",
       "  'пигментация': 0.2096144301446369,\n",
       "  'жалоба предъявлять': 0.2096144301446369,\n",
       "  'предъявлять область': 0.2096144301446369,\n",
       "  'сустав пигментация': 0.2096144301446369,\n",
       "  'пигментация шелушение': 0.2096144301446369,\n",
       "  'жалоба предъявлять область': 0.2096144301446369,\n",
       "  'предъявлять область правый': 0.2096144301446369,\n",
       "  'коленный сустав пигментация': 0.2096144301446369,\n",
       "  'сустав пигментация шелушение': 0.2096144301446369,\n",
       "  'пигментация шелушение кожи': 0.2096144301446369},\n",
       " {'жалоба': 0.1471258491420383,\n",
       "  'правый': 0.1471258491420383,\n",
       "  'область': 0.18089414299734383,\n",
       "  'голень': 0.18089414299734383,\n",
       "  'коленный': 0.18089414299734383,\n",
       "  'сустав': 0.18089414299734383,\n",
       "  'область правый': 0.18089414299734383,\n",
       "  'правый голень': 0.18089414299734383,\n",
       "  'голень коленный': 0.18089414299734383,\n",
       "  'коленный сустав': 0.18089414299734383,\n",
       "  'область правый голень': 0.18089414299734383,\n",
       "  'правый голень коленный': 0.18089414299734383,\n",
       "  'голень коленный сустав': 0.18089414299734383,\n",
       "  'шелушение': 0.1944548497525157,\n",
       "  'кожи': 0.1944548497525157,\n",
       "  'шелушение кожи': 0.1944548497525157,\n",
       "  'предъявлять': 0.2096144301446369,\n",
       "  'пигментация': 0.2096144301446369,\n",
       "  'жалоба предъявлять': 0.2096144301446369,\n",
       "  'предъявлять область': 0.2096144301446369,\n",
       "  'сустав пигментация': 0.2096144301446369,\n",
       "  'пигментация шелушение': 0.2096144301446369,\n",
       "  'жалоба предъявлять область': 0.2096144301446369,\n",
       "  'предъявлять область правый': 0.2096144301446369,\n",
       "  'коленный сустав пигментация': 0.2096144301446369,\n",
       "  'сустав пигментация шелушение': 0.2096144301446369,\n",
       "  'пигментация шелушение кожи': 0.2096144301446369},\n",
       " {'жалоба': 0.1471258491420383,\n",
       "  'правый': 0.1471258491420383,\n",
       "  'область': 0.18089414299734383,\n",
       "  'голень': 0.18089414299734383,\n",
       "  'коленный': 0.18089414299734383,\n",
       "  'сустав': 0.18089414299734383,\n",
       "  'область правый': 0.18089414299734383,\n",
       "  'правый голень': 0.18089414299734383,\n",
       "  'голень коленный': 0.18089414299734383,\n",
       "  'коленный сустав': 0.18089414299734383,\n",
       "  'область правый голень': 0.18089414299734383,\n",
       "  'правый голень коленный': 0.18089414299734383,\n",
       "  'голень коленный сустав': 0.18089414299734383,\n",
       "  'шелушение': 0.1944548497525157,\n",
       "  'кожи': 0.1944548497525157,\n",
       "  'шелушение кожи': 0.1944548497525157,\n",
       "  'предъявлять': 0.2096144301446369,\n",
       "  'пигментация': 0.2096144301446369,\n",
       "  'жалоба предъявлять': 0.2096144301446369,\n",
       "  'предъявлять область': 0.2096144301446369,\n",
       "  'сустав пигментация': 0.2096144301446369,\n",
       "  'пигментация шелушение': 0.2096144301446369,\n",
       "  'жалоба предъявлять область': 0.2096144301446369,\n",
       "  'предъявлять область правый': 0.2096144301446369,\n",
       "  'коленный сустав пигментация': 0.2096144301446369,\n",
       "  'сустав пигментация шелушение': 0.2096144301446369,\n",
       "  'пигментация шелушение кожи': 0.2096144301446369},\n",
       " {'жалоба': 0.1471258491420383,\n",
       "  'правый': 0.1471258491420383,\n",
       "  'область': 0.18089414299734383,\n",
       "  'голень': 0.18089414299734383,\n",
       "  'коленный': 0.18089414299734383,\n",
       "  'сустав': 0.18089414299734383,\n",
       "  'область правый': 0.18089414299734383,\n",
       "  'правый голень': 0.18089414299734383,\n",
       "  'голень коленный': 0.18089414299734383,\n",
       "  'коленный сустав': 0.18089414299734383,\n",
       "  'область правый голень': 0.18089414299734383,\n",
       "  'правый голень коленный': 0.18089414299734383,\n",
       "  'голень коленный сустав': 0.18089414299734383,\n",
       "  'шелушение': 0.1944548497525157,\n",
       "  'кожи': 0.1944548497525157,\n",
       "  'шелушение кожи': 0.1944548497525157,\n",
       "  'предъявлять': 0.2096144301446369,\n",
       "  'пигментация': 0.2096144301446369,\n",
       "  'жалоба предъявлять': 0.2096144301446369,\n",
       "  'предъявлять область': 0.2096144301446369,\n",
       "  'сустав пигментация': 0.2096144301446369,\n",
       "  'пигментация шелушение': 0.2096144301446369,\n",
       "  'жалоба предъявлять область': 0.2096144301446369,\n",
       "  'предъявлять область правый': 0.2096144301446369,\n",
       "  'коленный сустав пигментация': 0.2096144301446369,\n",
       "  'сустав пигментация шелушение': 0.2096144301446369,\n",
       "  'пигментация шелушение кожи': 0.2096144301446369},\n",
       " {'жалоба': 0.1471258491420383,\n",
       "  'правый': 0.1471258491420383,\n",
       "  'область': 0.18089414299734383,\n",
       "  'голень': 0.18089414299734383,\n",
       "  'коленный': 0.18089414299734383,\n",
       "  'сустав': 0.18089414299734383,\n",
       "  'область правый': 0.18089414299734383,\n",
       "  'правый голень': 0.18089414299734383,\n",
       "  'голень коленный': 0.18089414299734383,\n",
       "  'коленный сустав': 0.18089414299734383,\n",
       "  'область правый голень': 0.18089414299734383,\n",
       "  'правый голень коленный': 0.18089414299734383,\n",
       "  'голень коленный сустав': 0.18089414299734383,\n",
       "  'шелушение': 0.1944548497525157,\n",
       "  'кожи': 0.1944548497525157,\n",
       "  'шелушение кожи': 0.1944548497525157,\n",
       "  'предъявлять': 0.2096144301446369,\n",
       "  'пигментация': 0.2096144301446369,\n",
       "  'жалоба предъявлять': 0.2096144301446369,\n",
       "  'предъявлять область': 0.2096144301446369,\n",
       "  'сустав пигментация': 0.2096144301446369,\n",
       "  'пигментация шелушение': 0.2096144301446369,\n",
       "  'жалоба предъявлять область': 0.2096144301446369,\n",
       "  'предъявлять область правый': 0.2096144301446369,\n",
       "  'коленный сустав пигментация': 0.2096144301446369,\n",
       "  'сустав пигментация шелушение': 0.2096144301446369,\n",
       "  'пигментация шелушение кожи': 0.2096144301446369},\n",
       " {'жалоба': 0.1471258491420383,\n",
       "  'правый': 0.1471258491420383,\n",
       "  'область': 0.18089414299734383,\n",
       "  'голень': 0.18089414299734383,\n",
       "  'коленный': 0.18089414299734383,\n",
       "  'сустав': 0.18089414299734383,\n",
       "  'область правый': 0.18089414299734383,\n",
       "  'правый голень': 0.18089414299734383,\n",
       "  'голень коленный': 0.18089414299734383,\n",
       "  'коленный сустав': 0.18089414299734383,\n",
       "  'область правый голень': 0.18089414299734383,\n",
       "  'правый голень коленный': 0.18089414299734383,\n",
       "  'голень коленный сустав': 0.18089414299734383,\n",
       "  'шелушение': 0.1944548497525157,\n",
       "  'кожи': 0.1944548497525157,\n",
       "  'шелушение кожи': 0.1944548497525157,\n",
       "  'предъявлять': 0.2096144301446369,\n",
       "  'пигментация': 0.2096144301446369,\n",
       "  'жалоба предъявлять': 0.2096144301446369,\n",
       "  'предъявлять область': 0.2096144301446369,\n",
       "  'сустав пигментация': 0.2096144301446369,\n",
       "  'пигментация шелушение': 0.2096144301446369,\n",
       "  'жалоба предъявлять область': 0.2096144301446369,\n",
       "  'предъявлять область правый': 0.2096144301446369,\n",
       "  'коленный сустав пигментация': 0.2096144301446369,\n",
       "  'сустав пигментация шелушение': 0.2096144301446369,\n",
       "  'пигментация шелушение кожи': 0.2096144301446369}]"
      ]
     },
     "execution_count": 8,
     "metadata": {},
     "output_type": "execute_result"
    }
   ],
   "source": [
    "from sklearn.feature_extraction.text import TfidfVectorizer\n",
    "\n",
    "\n",
    "for patient in patients:\n",
    "    if patient.vectorizer is None:\n",
    "        vectorizer = TfidfVectorizer(stop_words=russian_stopwords, ngram_range=(1, 3))\n",
    "        matrix = vectorizer.fit_transform(patient.treatment_days)\n",
    "        feature_names = vectorizer.get_feature_names()\n",
    "        patient.vectorizer = vectorizer\n",
    "        patient.matrix = matrix\n",
    "        \n",
    "        for iday in range(len(patient.treatment_days)):\n",
    "            feature_index = matrix[iday,:].nonzero()[1]\n",
    "            scores = zip(feature_index, [matrix[iday,x] for x in feature_index])\n",
    "            tfidf = {}\n",
    "            for word, value in [(feature_names[i], value) for (i, value) in scores]:\n",
    "                tfidf[word] = value\n",
    "            patient.tfidf_scores.append(tfidf)\n",
    "        \n",
    "    \n",
    "    \n",
    "patients[1].tfidf_scores"
   ]
  },
  {
   "cell_type": "code",
   "execution_count": 9,
   "metadata": {},
   "outputs": [
    {
     "data": {
      "text/plain": [
       "{'повышение': 0.24447613932702925,\n",
       " 'температура': 0.24447613932702925,\n",
       " 'слабость': 0.24447613932702925,\n",
       " 'головной': 0.24447613932702925,\n",
       " 'разбитость': 0.24447613932702925}"
      ]
     },
     "execution_count": 9,
     "metadata": {},
     "output_type": "execute_result"
    }
   ],
   "source": [
    "#bow - bag of words\n",
    "num_keybows = Patient.num_keybows\n",
    "\n",
    "for patient in patients:\n",
    "    for iday in range(len(patient.treatment_days)):\n",
    "        bows = patient.tfidf_scores[iday]\n",
    "        sorted_ = sorted(bows, key=bows.get, reverse=True)[:num_keybows]\n",
    "        tfidf = {}\n",
    "        for keybow in sorted_:\n",
    "            tfidf[keybow] = patient.tfidf_scores[iday][keybow]\n",
    "        patient.keybows.append(tfidf)\n",
    "    \n",
    "patients[1].keybows[0]"
   ]
  },
  {
   "cell_type": "code",
   "execution_count": 10,
   "metadata": {},
   "outputs": [
    {
     "data": {
      "text/plain": [
       "<Figure size 800x800 with 1 Axes>"
      ]
     },
     "metadata": {},
     "output_type": "display_data"
    },
    {
     "data": {
      "text/plain": [
       "<matplotlib.axes._subplots.AxesSubplot at 0x2bff07a32e8>"
      ]
     },
     "execution_count": 10,
     "metadata": {},
     "output_type": "execute_result"
    }
   ],
   "source": [
    "from yellowbrick.text import FreqDistVisualizer\n",
    "from matplotlib.pyplot import figure\n",
    "\n",
    "figure(num=None, figsize=(10, 10), dpi=80, facecolor='w', edgecolor='k')\n",
    "\n",
    "visualizer = FreqDistVisualizer(features=patients[1].vectorizer.get_feature_names())\n",
    "visualizer.fit(patients[1].matrix)\n",
    "visualizer.show()"
   ]
  },
  {
   "cell_type": "code",
   "execution_count": 11,
   "metadata": {
    "scrolled": false
   },
   "outputs": [
    {
     "name": "stderr",
     "output_type": "stream",
     "text": [
      "'c' argument looks like a single numeric RGB or RGBA sequence, which should be avoided as value-mapping will have precedence in case its length matches with 'x' & 'y'.  Please use a 2-D array with a single row if you really want to specify the same RGB or RGBA value for all points.\n",
      "'c' argument looks like a single numeric RGB or RGBA sequence, which should be avoided as value-mapping will have precedence in case its length matches with 'x' & 'y'.  Please use a 2-D array with a single row if you really want to specify the same RGB or RGBA value for all points.\n",
      "'c' argument looks like a single numeric RGB or RGBA sequence, which should be avoided as value-mapping will have precedence in case its length matches with 'x' & 'y'.  Please use a 2-D array with a single row if you really want to specify the same RGB or RGBA value for all points.\n",
      "'c' argument looks like a single numeric RGB or RGBA sequence, which should be avoided as value-mapping will have precedence in case its length matches with 'x' & 'y'.  Please use a 2-D array with a single row if you really want to specify the same RGB or RGBA value for all points.\n",
      "'c' argument looks like a single numeric RGB or RGBA sequence, which should be avoided as value-mapping will have precedence in case its length matches with 'x' & 'y'.  Please use a 2-D array with a single row if you really want to specify the same RGB or RGBA value for all points.\n",
      "'c' argument looks like a single numeric RGB or RGBA sequence, which should be avoided as value-mapping will have precedence in case its length matches with 'x' & 'y'.  Please use a 2-D array with a single row if you really want to specify the same RGB or RGBA value for all points.\n",
      "'c' argument looks like a single numeric RGB or RGBA sequence, which should be avoided as value-mapping will have precedence in case its length matches with 'x' & 'y'.  Please use a 2-D array with a single row if you really want to specify the same RGB or RGBA value for all points.\n",
      "'c' argument looks like a single numeric RGB or RGBA sequence, which should be avoided as value-mapping will have precedence in case its length matches with 'x' & 'y'.  Please use a 2-D array with a single row if you really want to specify the same RGB or RGBA value for all points.\n",
      "'c' argument looks like a single numeric RGB or RGBA sequence, which should be avoided as value-mapping will have precedence in case its length matches with 'x' & 'y'.  Please use a 2-D array with a single row if you really want to specify the same RGB or RGBA value for all points.\n",
      "'c' argument looks like a single numeric RGB or RGBA sequence, which should be avoided as value-mapping will have precedence in case its length matches with 'x' & 'y'.  Please use a 2-D array with a single row if you really want to specify the same RGB or RGBA value for all points.\n",
      "'c' argument looks like a single numeric RGB or RGBA sequence, which should be avoided as value-mapping will have precedence in case its length matches with 'x' & 'y'.  Please use a 2-D array with a single row if you really want to specify the same RGB or RGBA value for all points.\n",
      "'c' argument looks like a single numeric RGB or RGBA sequence, which should be avoided as value-mapping will have precedence in case its length matches with 'x' & 'y'.  Please use a 2-D array with a single row if you really want to specify the same RGB or RGBA value for all points.\n"
     ]
    },
    {
     "name": "stdout",
     "output_type": "stream",
     "text": [
      "{1: 1, 2: 2, 3: 3, 4: 4, 5: 5, 6: 6, 7: 7, 8: 8, 9: 9, 10: 10, 11: 11, 12: 12}\n"
     ]
    },
    {
     "data": {
      "image/png": "[encoded data removed]",
      "text/plain": [
       "<Figure size 800x640 with 1 Axes>"
      ]
     },
     "metadata": {},
     "output_type": "display_data"
    },
    {
     "data": {
      "text/plain": [
       "<matplotlib.axes._subplots.AxesSubplot at 0x2bfefc4ef60>"
      ]
     },
     "execution_count": 11,
     "metadata": {},
     "output_type": "execute_result"
    }
   ],
   "source": [
    "from yellowbrick.text import TSNEVisualizer\n",
    "figure(num=None, figsize=(10, 8), dpi=80, facecolor='w', edgecolor='k')\n",
    "\n",
    "tsne = TSNEVisualizer(labels=patients[0].num_days)\n",
    "tsne.fit(patients[0].matrix, patients[0].num_days)\n",
    "tsne.poof()\n"
   ]
  },
  {
   "cell_type": "code",
   "execution_count": null,
   "metadata": {},
   "outputs": [],
   "source": [
    "from sklearn.manifold import TSNE\n",
    "from sklearn.decomposition import PCA\n",
    "import matplotlib.pyplot as plt\n",
    "\n",
    "\n",
    "pca = PCA(n_components=10)\n",
    "p = pca.fit_transform(patients[0].matrix.toarray())\n",
    "\n",
    "\n",
    "\n",
    "for i in range(len(patients[0].num_days)):\n",
    "    plt.annotate(i, xy=(p[i,0], p[i,1]))"
   ]
  },
  {
   "cell_type": "code",
   "execution_count": 184,
   "metadata": {},
   "outputs": [
    {
     "data": {
      "text/plain": [
       "['',\n",
       " 'c:\\\\users\\\\roman\\\\appdata\\\\local\\\\programs\\\\python\\\\python36\\\\python36.zip',\n",
       " 'c:\\\\users\\\\roman\\\\appdata\\\\local\\\\programs\\\\python\\\\python36\\\\DLLs',\n",
       " 'c:\\\\users\\\\roman\\\\appdata\\\\local\\\\programs\\\\python\\\\python36\\\\lib',\n",
       " 'c:\\\\users\\\\roman\\\\appdata\\\\local\\\\programs\\\\python\\\\python36',\n",
       " 'c:\\\\users\\\\roman\\\\appdata\\\\local\\\\programs\\\\python\\\\python36\\\\lib\\\\site-packages',\n",
       " 'c:\\\\users\\\\roman\\\\appdata\\\\local\\\\programs\\\\python\\\\python36\\\\lib\\\\site-packages\\\\IPython\\\\extensions',\n",
       " 'C:\\\\Users\\\\Roman\\\\.ipython']"
      ]
     },
     "execution_count": 184,
     "metadata": {},
     "output_type": "execute_result"
    }
   ],
   "source": [
    "import sys\n",
    "sys.path"
   ]
  },
  {
   "cell_type": "code",
   "execution_count": 253,
   "metadata": {},
   "outputs": [],
   "source": [
    "# import pandas as pd\n",
    "# \"\"\"Pandas dataframe\"\"\"\n",
    "\n",
    "# df = pd.DataFrame(data=dataset[0].toarray())\n",
    "# df.columns = vectorizers[0].get_feature_names()\n",
    "# df.head()"
   ]
  },
  {
   "cell_type": "code",
   "execution_count": 142,
   "metadata": {},
   "outputs": [
    {
     "name": "stderr",
     "output_type": "stream",
     "text": [
      "c:\\users\\roman\\appdata\\local\\programs\\python\\python36\\lib\\site-packages\\sklearn\\decomposition\\pca.py:445: RuntimeWarning: invalid value encountered in true_divide\n",
      "  explained_variance_ = (S ** 2) / (n_samples - 1)\n",
      "W1206 22:18:56.748055  8020 legend.py:1289] No handles with labels found to put in legend.\n"
     ]
    },
    {
     "data": {
      "image/png": "[encoded data removed]",
      "text/plain": [
       "<Figure size 432x288 with 1 Axes>"
      ]
     },
     "metadata": {},
     "output_type": "display_data"
    }
   ],
   "source": [
    "\"\"\"PCA in sklearn\"\"\"\n",
    "from sklearn.decomposition import PCA\n",
    "\n",
    "pca = PCA(n_components=None)\n",
    "X_pca = pca.fit_transform(df.head(1))\n",
    "cum_var_exp = np.cumsum(pca.explained_variance_ratio_)\n",
    "# plt.bar(range(1,df.shape[0]+1), pca.explained_variance_ratio_, alpha=0.5, align='center', label='индивидуальная объясненная дисперсия')\n",
    "# plt.step(range(1,df.shape[0]+1), cum_var_exp, where='mid', label='кумулятивая объясненная дисперсия')\n",
    "# plt.ylabel('доля объясненной дисперсии')\n",
    "# plt.xlabel('главные компоненты')\n",
    "\n",
    "plt.bar(10, pca.explained_variance_ratio_, alpha=0.5, align='center')\n",
    "plt.legend(loc='best')\n",
    "plt.show()"
   ]
  },
  {
   "cell_type": "code",
   "execution_count": 16,
   "metadata": {},
   "outputs": [
    {
     "data": {
      "text/plain": [
       "12"
      ]
     },
     "execution_count": 16,
     "metadata": {},
     "output_type": "execute_result"
    }
   ],
   "source": []
  },
  {
   "cell_type": "code",
   "execution_count": null,
   "metadata": {},
   "outputs": [],
   "source": [
    "for da"
   ]
  },
  {
   "cell_type": "code",
   "execution_count": null,
   "metadata": {},
   "outputs": [],
   "source": []
  },
  {
   "cell_type": "code",
   "execution_count": 72,
   "metadata": {},
   "outputs": [
    {
     "data": {
      "text/plain": [
       "(12, 10)"
      ]
     },
     "execution_count": 72,
     "metadata": {},
     "output_type": "execute_result"
    }
   ],
   "source": []
  },
  {
   "cell_type": "code",
   "execution_count": 12,
   "metadata": {},
   "outputs": [
    {
     "data": {
      "text/plain": [
       "(11, 105)"
      ]
     },
     "execution_count": 12,
     "metadata": {},
     "output_type": "execute_result"
    }
   ],
   "source": [
    "from sklearn.model_selection import train_test_split\n",
    "from sklearn.preprocessing import StandardScaler\n",
    "X  = df.iloc[:,:].values\n",
    "X.shape"
   ]
  },
  {
   "cell_type": "code",
   "execution_count": 22,
   "metadata": {},
   "outputs": [
    {
     "data": {
      "text/plain": [
       "numpy.ndarray"
      ]
     },
     "execution_count": 22,
     "metadata": {},
     "output_type": "execute_result"
    }
   ],
   "source": []
  },
  {
   "cell_type": "code",
   "execution_count": 13,
   "metadata": {},
   "outputs": [],
   "source": [
    "cov_mat = np.cov(X.T)\n",
    "eigen_vals, eigen_vecs = np.linalg.eig(cov_mat)\n",
    "#eigen_vals"
   ]
  },
  {
   "cell_type": "code",
   "execution_count": 16,
   "metadata": {},
   "outputs": [
    {
     "name": "stderr",
     "output_type": "stream",
     "text": [
      "c:\\users\\roman\\appdata\\local\\programs\\python\\python36\\lib\\site-packages\\matplotlib\\transforms.py:827: ComplexWarning: Casting complex values to real discards the imaginary part\n",
      "  points = np.array(args, dtype=float).reshape(2, 2)\n",
      "c:\\users\\roman\\appdata\\local\\programs\\python\\python36\\lib\\site-packages\\numpy\\core\\numeric.py:501: ComplexWarning: Casting complex values to real discards the imaginary part\n",
      "  return array(a, dtype, copy=False, order=order)\n"
     ]
    },
    {
     "data": {
      "image/png": "[encoded data removed]",
      "text/plain": [
       "<Figure size 2304x864 with 1 Axes>"
      ]
     },
     "metadata": {
      "needs_background": "light"
     },
     "output_type": "display_data"
    }
   ],
   "source": [
    "import matplotlib.pyplot as plt\n",
    "\n",
    "tot = sum(eigen_vals)\n",
    "var_exp = [(i / tot) for i in\n",
    "          sorted(eigen_vals, reverse=True)]\n",
    "cum_var_exp = np.cumsum(var_exp)\n",
    "\n",
    "plt.figure(figsize=(32,12))\n",
    "plt.bar(range(1,X.shape[1]+1), var_exp, alpha=0.5, align='center', label='индивидуальная объясненная дисперсия')\n",
    "plt.step(range(1,X.shape[1]+1), cum_var_exp, where='mid', label='кумулятивая объясненная дисперсия')\n",
    "plt.ylabel('доля объясненной дисперсии')\n",
    "plt.xlabel('главные компоненты')\n",
    "plt.legend(loc='best')\n",
    "plt.show()"
   ]
  },
  {
   "cell_type": "code",
   "execution_count": 17,
   "metadata": {},
   "outputs": [
    {
     "data": {
      "text/plain": [
       "array([0.63018547, 0.85209853, 1.        , 1.        , 1.        ,\n",
       "       1.        , 1.        , 1.        , 1.        , 1.        ,\n",
       "       1.        ])"
      ]
     },
     "execution_count": 17,
     "metadata": {},
     "output_type": "execute_result"
    }
   ],
   "source": [
    "from sklearn.decomposition import PCA\n",
    "\n",
    "pca = PCA(n_components=None)\n",
    "X_pca = pca.fit_transform(X)\n",
    "cum_var_exp = np.cumsum(pca.explained_variance_ratio_)\n",
    "cum_var_exp "
   ]
  },
  {
   "cell_type": "code",
   "execution_count": 18,
   "metadata": {},
   "outputs": [],
   "source": [
    "\n",
    "# plt.bar(range(0,X.shape[0]), pca.explained_variance_ratio_, alpha=0.5, align='center', label='индивидуальная объясненная дисперсия')\n",
    "# plt.step(range(0,X.shape[1]), cum_var_exp, where='mid', label='кумулятивая объясненная дисперсия')\n",
    "# plt.ylabel('доля объясненной дисперсии')\n",
    "# plt.xlabel('главные компоненты')\n",
    "# plt.legend(loc='best')\n",
    "# plt.show()"
   ]
  },
  {
   "cell_type": "code",
   "execution_count": 19,
   "metadata": {},
   "outputs": [
    {
     "name": "stdout",
     "output_type": "stream",
     "text": [
      "бисакод\n",
      "бисакодила диурез\n",
      "бисакодила диурез патолог\n",
      "бол\n",
      "боли слаб\n",
      "боли слабость стул\n",
      "волосист\n",
      "волосистой част\n",
      "волосистой части голов\n",
      "выздоровлен\n",
      "выписыва\n"
     ]
    },
    {
     "ename": "IndexError",
     "evalue": "index 11 is out of bounds for axis 0 with size 11",
     "output_type": "error",
     "traceback": [
      "\u001b[1;31m---------------------------------------------------------------------------\u001b[0m",
      "\u001b[1;31mIndexError\u001b[0m                                Traceback (most recent call last)",
      "\u001b[1;32m<ipython-input-19-ea9951d0028a>\u001b[0m in \u001b[0;36m<module>\u001b[1;34m\u001b[0m\n\u001b[0;32m      6\u001b[0m \u001b[1;33m\u001b[0m\u001b[0m\n\u001b[0;32m      7\u001b[0m \u001b[1;32mfor\u001b[0m \u001b[0mi\u001b[0m\u001b[1;33m,\u001b[0m \u001b[0mword\u001b[0m \u001b[1;32min\u001b[0m \u001b[0menumerate\u001b[0m\u001b[1;33m(\u001b[0m\u001b[0mfeature_names\u001b[0m\u001b[1;33m)\u001b[0m\u001b[1;33m:\u001b[0m\u001b[1;33m\u001b[0m\u001b[0m\n\u001b[1;32m----> 8\u001b[1;33m     \u001b[0mplt\u001b[0m\u001b[1;33m.\u001b[0m\u001b[0mannotate\u001b[0m\u001b[1;33m(\u001b[0m\u001b[0mword\u001b[0m\u001b[1;33m,\u001b[0m \u001b[0mxy\u001b[0m\u001b[1;33m=\u001b[0m\u001b[1;33m(\u001b[0m\u001b[0mresult\u001b[0m\u001b[1;33m[\u001b[0m\u001b[0mi\u001b[0m\u001b[1;33m,\u001b[0m \u001b[1;36m0\u001b[0m\u001b[1;33m]\u001b[0m\u001b[1;33m,\u001b[0m \u001b[0mresult\u001b[0m\u001b[1;33m[\u001b[0m\u001b[0mi\u001b[0m\u001b[1;33m,\u001b[0m \u001b[1;36m1\u001b[0m\u001b[1;33m]\u001b[0m\u001b[1;33m)\u001b[0m\u001b[1;33m)\u001b[0m\u001b[1;33m\u001b[0m\u001b[0m\n\u001b[0m\u001b[0;32m      9\u001b[0m     \u001b[0mprint\u001b[0m\u001b[1;33m(\u001b[0m\u001b[0mword\u001b[0m\u001b[1;33m)\u001b[0m\u001b[1;33m\u001b[0m\u001b[0m\n\u001b[0;32m     10\u001b[0m \u001b[0mplt\u001b[0m\u001b[1;33m.\u001b[0m\u001b[0mshow\u001b[0m\u001b[1;33m(\u001b[0m\u001b[1;33m)\u001b[0m\u001b[1;33m\u001b[0m\u001b[0m\n",
      "\u001b[1;31mIndexError\u001b[0m: index 11 is out of bounds for axis 0 with size 11"
     ]
    },
    {
     "data": {
      "image/png": "[encoded data removed]",
      "text/plain": [
       "<Figure size 432x288 with 1 Axes>"
      ]
     },
     "metadata": {
      "needs_background": "light"
     },
     "output_type": "display_data"
    }
   ],
   "source": [
    "pca = PCA(n_components=2)\n",
    "result = pca.fit_transform(X)\n",
    "# create a scatter plot of the projection\n",
    "\n",
    "plt.scatter(result[:, 0], result[:, 1])\n",
    "\n",
    "for i, word in enumerate(feature_names):\n",
    "    plt.annotate(word, xy=(result[i, 0], result[i, 1]))\n",
    "    print(word)\n",
    "plt.show()"
   ]
  },
  {
   "cell_type": "markdown",
   "metadata": {},
   "source": []
  },
  {
   "cell_type": "code",
   "execution_count": 106,
   "metadata": {},
   "outputs": [
    {
     "data": {
      "text/plain": [
       "str"
      ]
     },
     "execution_count": 106,
     "metadata": {},
     "output_type": "execute_result"
    }
   ],
   "source": [
    "l = []\n",
    "l.append({1:\"sadas\"})\n",
    "type(l[0][1])"
   ]
  },
  {
   "cell_type": "code",
   "execution_count": null,
   "metadata": {},
   "outputs": [],
   "source": []
  },
  {
   "cell_type": "code",
   "execution_count": null,
   "metadata": {},
   "outputs": [],
   "source": []
  }
 ],
 "metadata": {
  "kernelspec": {
   "display_name": "Python 3",
   "language": "python",
   "name": "python3"
  },
  "language_info": {
   "codemirror_mode": {
    "name": "ipython",
    "version": 3
   },
   "file_extension": ".py",
   "mimetype": "text/x-python",
   "name": "python",
   "nbconvert_exporter": "python",
   "pygments_lexer": "ipython3",
   "version": "3.6.4"
  }
 },
 "nbformat": 4,
 "nbformat_minor": 4
}
